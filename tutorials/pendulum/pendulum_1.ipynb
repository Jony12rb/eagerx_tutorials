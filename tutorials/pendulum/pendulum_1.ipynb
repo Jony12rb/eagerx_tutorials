{
 "cells": [
  {
   "cell_type": "markdown",
   "id": "65b4e05a",
   "metadata": {},
   "source": [
    "# Tutorial 1: EAGERx Environment Creation and Training\n",
    "\n",
    "In this tutorial, we will show a simple example of how to create a gym environment using [EAGERx](https://eagerx.readthedocs.io/en/master/).\n",
    "Also, we will use this environment to train a policy using [Stable Baselines 3](https://stable-baselines3.readthedocs.io/en/master/).\n",
    "\n",
    "The aim of this tutorial is to show some of the key concepts of EAGERx:\n",
    "- Creating a [Graph](https://eagerx.readthedocs.io/en/master/guide/api_reference/graph/graph.html) with an [Object](https://eagerx.readthedocs.io/en/master/guide/api_reference/object/index.html)\n",
    "- How to use this [Graph](https://eagerx.readthedocs.io/en/master/guide/api_reference/graph/graph.html) and a [Bridge](https://eagerx.readthedocs.io/en/master/guide/api_reference/bridge/index.html) to create an [Eagerx Environment](https://eagerx.readthedocs.io/en/master/guide/api_reference/env/index.html)\n",
    "- How to train a policy with the [Eagerx Environment](https://eagerx.readthedocs.io/en/master/guide/api_reference/env/index.html)\n",
    "\n",
    "In the remainder of this tutorial we will go more into detail on these concepts.\n",
    "\n",
    "\n",
    "## Pendulum Swing-up\n",
    "\n",
    "We will create an environment for solving the classic control problem of swinging up an underactuated pendulum, very similar to the [Pendulum-v0 environment](https://gym.openai.com/envs/Pendulum-v0/).\n",
    "Our goal is to swing up this pendulum to the upright position and keep it there, while minimizing the velocity of the pendulum and the input voltage.\n",
    "\n",
    "Since the dynamics of a pendulum actuated by a DC motor are well known, we can simulate the pendulum by integrating the corresponding ordinary differential equations (ODEs):\n",
    "\n",
    "\n",
    "$\\mathbf{x} = \\begin{bmatrix} \\theta \\\\ \\dot{\\theta} \\end{bmatrix} \\\\ \\dot{\\mathbf{x}} = \\begin{bmatrix} \\dot{\\theta} \\\\ \\frac{1}{J}(\\frac{K}{R}u - mgl \\sin{\\theta} - b \\dot{\\theta} - \\frac{K^2}{R}\\dot{\\theta})\\end{bmatrix}$\n",
    "\n",
    "with $\\theta$ the angle w.r.t. upright position, $\\dot{\\theta}$ the angular velocity, $u$ the input voltage, $J$ the inertia, $m$ the mass, $g$ the gravitational constant, $l$ the length of the pendulum, $b$ the motor viscous friction constant, $K$ the motor constant and $R$ the electric resistance.\n",
    "\n",
    "\n",
    "\n",
    "<img src=\"./figures/pendulum.GIF\" width=\"480\" height=\"480\" />"
   ]
  },
  {
   "cell_type": "markdown",
   "id": "74487e37-a1bc-4640-a9da-6f6cf27b4519",
   "metadata": {},
   "source": [
    "## Notebook Setup\n",
    "\n",
    "In order to be able to run the code, we need to install the *eagerx_tutorials* package and ROS."
   ]
  },
  {
   "cell_type": "code",
   "execution_count": 1,
   "id": "b7485878-73c8-43fc-8b9a-a8fc9d8e1775",
   "metadata": {},
   "outputs": [
    {
     "name": "stdout",
     "output_type": "stream",
     "text": [
      "Not running on CoLab.\n",
      "Execute ROS commands as \"!...\".\n",
      "ROS noetic available.\n"
     ]
    }
   ],
   "source": [
    "try:\n",
    "    import eagerx_tutorials\n",
    "except ImportError:\n",
    "    !{\"pip install eagerx-tutorials  >> /tmp/eagerx_install.txt\"}\n",
    "if 'google.colab' in str(get_ipython()):\n",
    "  !{\"curl 'https://raw.githubusercontent.com/eager-dev/eagerx_tutorials/master/scripts/setup_colab.sh' > ~/setup_colab.sh\"}\n",
    "  !{\"bash ~/setup_colab.sh\"}\n",
    "\n",
    "# Setup interactive notebook\n",
    "# Required in interactive notebooks only.\n",
    "from eagerx_tutorials import helper\n",
    "helper.setup_notebook()\n",
    "env = None\n",
    "\n",
    "# Allows reloading of registered entites from changed files\n",
    "# Required in interactive notebooks only.\n",
    "%reload_ext autoreload\n",
    "%autoreload 1"
   ]
  },
  {
   "cell_type": "markdown",
   "id": "5627eb51",
   "metadata": {},
   "source": [
    "## Let's get started\n",
    "\n",
    "First we will import EAGERx and initialize it.\n",
    "As mentioned before, EAGERx makes use of ROS functionality for communication and during initialization a ROS master is started if there isn't one running already."
   ]
  },
  {
   "cell_type": "code",
   "execution_count": 2,
   "id": "f0faf969",
   "metadata": {
    "collapsed": false,
    "jupyter": {
     "outputs_hidden": false
    },
    "pycharm": {
     "name": "#%%\n"
    }
   },
   "outputs": [
    {
     "name": "stdout",
     "output_type": "stream",
     "text": [
      "... logging to /home/jelle/.ros/log/f309ce50-c0b7-11ec-bac4-8f4a89568e5d/roslaunch-jelle-Alienware-m15-R4-183854.log\n",
      "\u001b[1mstarted roslaunch server http://145.94.60.89:39469/\u001b[0m\n",
      "ros_comm version 1.15.14\n",
      "\n",
      "\n",
      "SUMMARY\n",
      "========\n",
      "\n",
      "PARAMETERS\n",
      " * /rosdistro: noetic\n",
      " * /rosversion: 1.15.14\n",
      "\n",
      "NODES\n",
      "\n",
      "auto-starting new master\n",
      "\u001b[1mprocess[master]: started with pid [183911]\u001b[0m\n",
      "\u001b[1mROS_MASTER_URI=http://localhost:11311\u001b[0m\n",
      "\u001b[1msetting /run_id to f309ce50-c0b7-11ec-bac4-8f4a89568e5d\u001b[0m\n",
      "\u001b[1mprocess[rosout-1]: started with pid [183936]\u001b[0m\n",
      "started core service [/rosout]\n"
     ]
    },
    {
     "data": {
      "text/plain": [
       "<roslaunch.parent.ROSLaunchParent at 0x7f8ca460ad00>"
      ]
     },
     "execution_count": 2,
     "metadata": {},
     "output_type": "execute_result"
    }
   ],
   "source": [
    "import eagerx\n",
    "# Initialize eagerx (starts roscore if not already started.)\n",
    "eagerx.initialize(\"eagerx_core\")"
   ]
  },
  {
   "cell_type": "markdown",
   "id": "701e0a93",
   "metadata": {},
   "source": [
    "An `Object` is an entity that has inputs (sensors), outputs (actuators) and states (that can be reset at the beginning of an episode).\n",
    "\n",
    "We are going to create one object (the pendulum). For this first tutorial, we don't want to go into details too much and start with an existing object.\n",
    "If you are interested, you can find its definition [here](https://github.com/eager-dev/eagerx_tutorials/blob/master/eagerx_tutorials/pendulum/objects.py).\n",
    "Note that we import the pendulum.\n",
    "While this might look like an unused import, it is not.\n",
    "During the import, the pendulum object is registered and we can therefore make it based on its ID, i.e. *Pendulum*.\n",
    "\n",
    "Before making the object, we will first obtain some info on the *Pendulum*, such that we know with what arguments we should make it."
   ]
  },
  {
   "cell_type": "code",
   "execution_count": 3,
   "id": "eeaac748",
   "metadata": {},
   "outputs": [
    {
     "name": "stdout",
     "output_type": "stream",
     "text": [
      "Registered entity_id=`Pendulum`:\n",
      "   entity_type: `Object`\n",
      "   module: `eagerx_tutorials.pendulum.objects`\n",
      "   file: `/home/jelle/eagerx_dev/eagerx_tutorials/eagerx_tutorials/pendulum/objects.py`\n",
      "\n",
      "Supported bridges:\n",
      " - OdeBridge\n",
      "\n",
      "Make this spec with (use `entity_id: str = \"Pendulum\"`):\n",
      "   spec = Object.make(entity_id: str, name: str, actuators: List[str] = None, sensors: List[str] = None, states: List[str] = None, rate: float = 30.0, render_shape: List[int] = None)\n",
      "\n",
      "class Pendulum(Object):\n",
      "   spec(spec: eagerx.core.specs.ObjectSpec, name: str, actuators: List[str] = None, sensors: List[str] = None, states: List[str] = None, rate: float = 30.0, render_shape: List[int] = None):\n",
      "      docs:\n",
      "         Object spec of Pendulum\n",
      "\n",
      "   agnostic(spec: eagerx.core.specs.ObjectSpec, rate: float):\n",
      "      config:\n",
      "       - render_shape: [480, 480]\n",
      "      sensors:\n",
      "       - angle_sensor: <class 'std_msgs.msg._Float32MultiArray.Float32MultiArray'>\n",
      "       - image: <class 'sensor_msgs.msg._Image.Image'>\n",
      "      actuators:\n",
      "       - voltage: <class 'std_msgs.msg._Float32MultiArray.Float32MultiArray'>\n",
      "      engine_states: <Nothing registered>\n",
      "      docs:\n",
      "         Agnostic definition of the Pendulum.\n",
      "\n",
      "                 Sensors\n",
      "                 angle_sensor: angle data [angle, angular velocity]\n",
      "                 image: render of pendulum system\n",
      "\n",
      "                 Actuators\n",
      "                 voltage: DC motor voltage\n",
      "\n",
      "                 States\n",
      "                 model_state: allows resetting the angle and angular velocity\n",
      "\n",
      "                 Config\n",
      "                 render_shape: shape of render window [height, width]\n",
      "        \n",
      "\n",
      "\n"
     ]
    }
   ],
   "source": [
    "import eagerx_tutorials.pendulum  # Registers Pendulum\n",
    "\n",
    "eagerx.Object.info(\"Pendulum\")"
   ]
  },
  {
   "cell_type": "markdown",
   "id": "94acafd2-ea83-4bfe-aeb1-76fa251fec47",
   "metadata": {},
   "source": [
    "We see that the `eagerx.Object.info(\"Pendulum\")` provides us information on the *Pendulum* object.\n",
    "It has two sensors (*angle_sensor*, *image*), one actuator (*voltage*) and one state (*model_state*).\n",
    "For now, we are only interested in how to make this object, other information will be covered in later tutorials.\n",
    "We can make the *Pendulum* object with the `eagerx.Object.make` method with the required arguments *entity_id* and (a unique) *name*.\n",
    "Furthermore, we will specify which actuators, sensors and states we will use:"
   ]
  },
  {
   "cell_type": "code",
   "execution_count": 4,
   "id": "da5a5a0e-6502-4ac1-9b27-c3e207a8c47b",
   "metadata": {},
   "outputs": [],
   "source": [
    "# Make pendulum\n",
    "pendulum = eagerx.Object.make(\"Pendulum\", \"pendulum\", actuators=[\"voltage\"], sensors=[\"angle_sensor\"], states=[\"model_state\"])"
   ]
  },
  {
   "cell_type": "markdown",
   "id": "5d2f0c2d",
   "metadata": {},
   "source": [
    "Next, we create a [Graph](https://eagerx.readthedocs.io/en/master/guide/api_reference/graph/graph.html) and add the pendulum to it.\n",
    "\n",
    "The graph describes the interconnect of nodes and objects.\n",
    "In this way, the creation of an environment becomes modular.\n",
    "This allows users to create an implementation for nodes and objects once, and easily create new environments by reusing these implementations.\n",
    "Also, this allows to construct complex environments using nodes and objects as basic building blocks.\n",
    "\n",
    "After adding the pendulum to the graph, we will connect the actuator *voltage* to a new action called *voltage_action*.\n",
    "We will connect the sensor *angle_sensor* to the observation *angle_observation*.\n",
    "In this way, the agent will be able to send actions to the *voltage* actuator of the pendulum and observe the output of the *angle_sensor*."
   ]
  },
  {
   "cell_type": "code",
   "execution_count": 5,
   "id": "2686fa8a",
   "metadata": {},
   "outputs": [],
   "source": [
    "# Define rate (depends on rate of ode)\n",
    "rate = 30.0\n",
    "\n",
    "# Initialize empty graph\n",
    "graph = eagerx.Graph.create()\n",
    "\n",
    "# Add pendulum to the graph\n",
    "graph.add(pendulum)\n",
    "\n",
    "# Connect the pendulum to an action and observation\n",
    "graph.connect(action=\"voltage_action\", target=pendulum.actuators.voltage)\n",
    "graph.connect(source=pendulum.sensors.angle_sensor, observation=\"angle_observation\")"
   ]
  },
  {
   "cell_type": "markdown",
   "id": "99f0b265",
   "metadata": {},
   "source": [
    "It is also possible to inspect the graph using the eagerx-gui package.\n",
    "It can be installed as follows:\n",
    "```bash\n",
    "pip3 install eagerx-gui\n",
    "```\n",
    "Jupyter notebooks have limited support for interactive applications, so we cannot open the GUI here.\n",
    "But if we were to run\n",
    "```python\n",
    "graph.gui()\n",
    "```\n",
    "The ouput would be as follows:\n",
    "<img src=\"./figures/tutorial_1_gui.svg\" width=720>\n",
    "\n",
    "Here we see that the actions of the agent are outputs of *env/actions* and that the observations of the agent are inputs of *env/observations*.\n",
    "Also, we could render output by connecting to *env/render*, which will be covered in another tutorial.\n",
    "Note that *env/actions*, *env/observations* and *env/render* represent connections of the `Graph` to the environment.\n",
    "They are split up in the GUI as nodes for visualization purposes."
   ]
  },
  {
   "cell_type": "markdown",
   "id": "f8410ce6",
   "metadata": {},
   "source": [
    "Next, we will create the [Bridge](https://eagerx.readthedocs.io/en/master/guide/api_reference/bridge/index.html).\n",
    "Since objects can have implementions for multiple physics engines and real systems, we need to initialize the appropriate bridge.\n",
    "In our case, we will use the [OdeBridge](https://github.com/eager-dev/eagerx_ode), which allows to simulate systems based on ordinary differential equations (ODEs).\n",
    "In other tutorials we will go more into detail on the bridge and how you can create your own bridge."
   ]
  },
  {
   "cell_type": "code",
   "execution_count": 6,
   "id": "badb2076",
   "metadata": {},
   "outputs": [],
   "source": [
    "import eagerx_ode  # Registers OdeBridge\n",
    "\n",
    "# Define bridges\n",
    "bridge = eagerx.Bridge.make(\"OdeBridge\", rate=rate)"
   ]
  },
  {
   "cell_type": "markdown",
   "id": "d0c48b43",
   "metadata": {},
   "source": [
    "Just like in normal Gym environments, we will create a step function in which we will calculate the reward at each time step and check for termination conditions.\n",
    "Our goal is to stabilize the pendulum in upright position, while minimizing the input voltage that is applied.\n",
    "Therefore we choose a reward function that is a weighted sum of $\\theta^2$, $\\dot{\\theta^2}$ and $u^2$. \n",
    "\n",
    "Note that can obtain the values of the actions and observations using the keys *voltage_action* and *angle_observation*, which correspond to the names of the actions and observations above in the screenshot of the GUI."
   ]
  },
  {
   "cell_type": "code",
   "execution_count": 7,
   "id": "382dd9b5",
   "metadata": {},
   "outputs": [],
   "source": [
    "import numpy as np\n",
    "from typing import Dict\n",
    "\n",
    "# Define step function\n",
    "def step_fn(prev_obs: Dict[str, np.ndarray], obs: Dict[str, np.ndarray], action: Dict[str, np.ndarray], steps: int):\n",
    "    \n",
    "    # Get observation and action\n",
    "    state = obs[\"angle_observation\"][0]  # 0 index because of window size (covered in other tutorial)\n",
    "    u = action[\"voltage_action\"][0]  # 0 index to go from array to float\n",
    "    \n",
    "    # Get angle and angular velocity\n",
    "    th, thdot = state\n",
    "    \n",
    "    # Normalize angle\n",
    "    th -= 2 * np.pi * np.floor((th + np.pi) / (2 * np.pi))\n",
    "    \n",
    "    # Calculate cost\n",
    "    cost = th**2 + 0.1 * thdot**2 + 0.001 * u**2  # Penalize angle error, angular velocity and input voltage\n",
    "    \n",
    "    # Determine done flag\n",
    "    done = steps > 100\n",
    "    \n",
    "    # Set info:\n",
    "    info = dict()\n",
    "    \n",
    "    return obs, -cost, done, info"
   ]
  },
  {
   "cell_type": "markdown",
   "id": "58c6766f",
   "metadata": {},
   "source": [
    "Having created a graph, a bridge and a step function, we can now construct the EAGERx environment."
   ]
  },
  {
   "cell_type": "code",
   "execution_count": 8,
   "id": "e5dbe23c",
   "metadata": {},
   "outputs": [
    {
     "name": "stdout",
     "output_type": "stream",
     "text": [
      "[INFO] [1650465686.662905]: Node \"/PendulumEnv/env/supervisor\" initialized.\n",
      "[INFO] [1650465686.815456]: Node \"/PendulumEnv/bridge\" initialized.\n",
      "[INFO] [1650465686.939728]: Node \"/PendulumEnv/environment\" initialized.\n",
      "[INFO] [1650465687.007638]: Adding object \"pendulum\" of type \"Pendulum\" to the simulator.\n"
     ]
    }
   ],
   "source": [
    "# Initialize Environment\n",
    "env = eagerx.EagerxEnv(name=\"PendulumEnv\", rate=rate, graph=graph, bridge=bridge, step_fn=step_fn)"
   ]
  },
  {
   "cell_type": "markdown",
   "id": "06ae7093",
   "metadata": {},
   "source": [
    "The environment we have created, can be used like any other Gym environment.\n",
    "Here we will now train a policy to swing up the pendulum using the Soft Actor Critic (SAC) reinforcement learning algorithm implementation from [Stable Baselines 3](https://stable-baselines3.readthedocs.io/en/master/)."
   ]
  },
  {
   "cell_type": "code",
   "execution_count": 9,
   "id": "19aaa2b8",
   "metadata": {},
   "outputs": [
    {
     "name": "stdout",
     "output_type": "stream",
     "text": [
      "[INFO] [1650465687.064191]: Node \"/PendulumEnv/pendulum/angle_sensor\" initialized.\n",
      "[INFO] [1650465687.228004]: Node \"/PendulumEnv/pendulum/image\" initialized.\n",
      "[INFO] [1650465687.245822]: Node \"/PendulumEnv/pendulum/pendulum_actuator\" initialized.\n",
      "Using cpu device\n",
      "Wrapping the env with a `Monitor` wrapper\n",
      "Wrapping the env in a DummyVecEnv.\n",
      "[INFO] [1650465687.663714]: Nodes initialized.\n",
      "[INFO] [1650465687.696912]: Pipelines initialized.\n",
      "----------------------------------\n",
      "| rollout/           |           |\n",
      "|    ep_len_mean     | 101       |\n",
      "|    ep_rew_mean     | -1.04e+03 |\n",
      "| time/              |           |\n",
      "|    episodes        | 4         |\n",
      "|    fps             | 92        |\n",
      "|    time_elapsed    | 4         |\n",
      "|    total_timesteps | 404       |\n",
      "| train/             |           |\n",
      "|    actor_loss      | 18.6      |\n",
      "|    critic_loss     | 16.6      |\n",
      "|    ent_coef        | 0.917     |\n",
      "|    ent_coef_loss   | -0.119    |\n",
      "|    learning_rate   | 0.0003    |\n",
      "|    n_updates       | 303       |\n",
      "----------------------------------\n",
      "---------------------------------\n",
      "| rollout/           |          |\n",
      "|    ep_len_mean     | 101      |\n",
      "|    ep_rew_mean     | -966     |\n",
      "| time/              |          |\n",
      "|    episodes        | 8        |\n",
      "|    fps             | 85       |\n",
      "|    time_elapsed    | 9        |\n",
      "|    total_timesteps | 808      |\n",
      "| train/             |          |\n",
      "|    actor_loss      | 32.2     |\n",
      "|    critic_loss     | 17.3     |\n",
      "|    ent_coef        | 0.835    |\n",
      "|    ent_coef_loss   | -0.184   |\n",
      "|    learning_rate   | 0.0003   |\n",
      "|    n_updates       | 707      |\n",
      "---------------------------------\n",
      "---------------------------------\n",
      "| rollout/           |          |\n",
      "|    ep_len_mean     | 101      |\n",
      "|    ep_rew_mean     | -937     |\n",
      "| time/              |          |\n",
      "|    episodes        | 12       |\n",
      "|    fps             | 83       |\n",
      "|    time_elapsed    | 14       |\n",
      "|    total_timesteps | 1212     |\n",
      "| train/             |          |\n",
      "|    actor_loss      | 43       |\n",
      "|    critic_loss     | 17.2     |\n",
      "|    ent_coef        | 0.745    |\n",
      "|    ent_coef_loss   | -0.343   |\n",
      "|    learning_rate   | 0.0003   |\n",
      "|    n_updates       | 1111     |\n",
      "---------------------------------\n",
      "---------------------------------\n",
      "| rollout/           |          |\n",
      "|    ep_len_mean     | 101      |\n",
      "|    ep_rew_mean     | -931     |\n",
      "| time/              |          |\n",
      "|    episodes        | 16       |\n",
      "|    fps             | 83       |\n",
      "|    time_elapsed    | 19       |\n",
      "|    total_timesteps | 1616     |\n",
      "| train/             |          |\n",
      "|    actor_loss      | 58.2     |\n",
      "|    critic_loss     | 46.5     |\n",
      "|    ent_coef        | 0.658    |\n",
      "|    ent_coef_loss   | -0.536   |\n",
      "|    learning_rate   | 0.0003   |\n",
      "|    n_updates       | 1515     |\n",
      "---------------------------------\n",
      "[INFO] [1650465709.054580]: [PendulumEnv][/PendulumEnv/bridge] Shutting down.\n",
      "[INFO] [1650465709.055699]: [/PendulumEnv/bridge] Shutting down '/PendulumEnv/pendulum/angle_sensor'.\n",
      "[INFO] [1650465709.056435]: [/PendulumEnv/pendulum/angle_sensor] Shutting down.\n",
      "[INFO] [1650465709.089766]: [/PendulumEnv/bridge] Shutting down '/PendulumEnv/pendulum/image'.\n",
      "[INFO] [1650465709.090465]: [/PendulumEnv/pendulum/image] Shutting down.\n",
      "[INFO] [1650465709.091301]: [/PendulumEnv/bridge] Shutting down '/PendulumEnv/pendulum/pendulum_actuator'.\n",
      "[INFO] [1650465709.091882]: [/PendulumEnv/pendulum/pendulum_actuator] Shutting down.\n",
      "[INFO] [1650465709.092479]: [/PendulumEnv/bridge] Shutting down.\n",
      "[INFO] [1650465709.093839]: [/PendulumEnv/env/supervisor] Shutting down.\n",
      "[INFO] [1650465709.097028]: [/PendulumEnv/environment] Shutting down.\n",
      "[INFO] [1650465709.099330]: Parameters under namespace \"/PendulumEnv\" deleted.\n"
     ]
    }
   ],
   "source": [
    "import stable_baselines3 as sb\n",
    "from eagerx.wrappers import Flatten\n",
    "\n",
    "# StableBaselines3 expects flattened actions & observations\n",
    "env = Flatten(env)\n",
    "\n",
    "# Initialize learner\n",
    "model = sb.SAC(\"MlpPolicy\", env, verbose=1, device=\"cpu\")\n",
    "\n",
    "# Train for 1 minute (sim time)\n",
    "model.learn(total_timesteps=int(60 * rate))\n",
    "\n",
    "env.shutdown()"
   ]
  }
 ],
 "metadata": {
  "kernelspec": {
   "display_name": "Python 3 (ipykernel)",
   "language": "python",
   "name": "python3"
  },
  "language_info": {
   "codemirror_mode": {
    "name": "ipython",
    "version": 3
   },
   "file_extension": ".py",
   "mimetype": "text/x-python",
   "name": "python",
   "nbconvert_exporter": "python",
   "pygments_lexer": "ipython3",
   "version": "3.8.10"
  }
 },
 "nbformat": 4,
 "nbformat_minor": 5
}
