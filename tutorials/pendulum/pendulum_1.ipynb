{
 "cells": [
  {
   "cell_type": "code",
   "execution_count": 6,
   "outputs": [
    {
     "name": "stdout",
     "output_type": "stream",
     "text": [
      "Not running on CoLab\n",
      "The autoreload extension is already loaded. To reload it, use:\n",
      "  %reload_ext autoreload\n"
     ]
    }
   ],
   "source": [
    "if 'google.colab' in str(get_ipython()):\n",
    "    !{\"../../../scripts/setup_colab.sh\"}\n",
    "\n",
    "# Setup interactive notebook\n",
    "from helper import setup_notebook\n",
    "setup_notebook()\n",
    "\n",
    "# Required in interactive notebooks only.\n",
    "# Allows reloading of registered entites from changed files\n",
    "%load_ext autoreload\n",
    "%autoreload 1"
   ],
   "metadata": {
    "collapsed": false,
    "pycharm": {
     "name": "#%%\n"
    }
   }
  },
  {
   "cell_type": "markdown",
   "source": [
    "# Tutorial 1: EAGERx Environment Creation and Training\n",
    "\n",
    "In this tutorial, we will show a simple example of how to create a gym environment using [EAGERx](https://eagerx.readthedocs.io/en/master/).\n",
    "Also, we will use this environment to train a policy using [Stable Baselines 3](https://stable-baselines3.readthedocs.io/en/master/).\n",
    "\n",
    "The aim of this tutorial is to show some of the key concepts of EAGERx:\n",
    "- Creating a [Graph](https://eagerx.readthedocs.io/en/master/guide/api_reference/graph/graph.html) with an [Object](https://eagerx.readthedocs.io/en/master/guide/api_reference/object/index.html)\n",
    "- How to use this [Graph](https://eagerx.readthedocs.io/en/master/guide/api_reference/graph/graph.html) and a [Bridge](https://eagerx.readthedocs.io/en/master/guide/api_reference/bridge/index.html) to create an [Eagerx Environment](https://eagerx.readthedocs.io/en/master/guide/api_reference/env/index.html)\n",
    "- How to train a policy with the [Eagerx Environment](https://eagerx.readthedocs.io/en/master/guide/api_reference/env/index.html)\n",
    "\n",
    "In the remainder of this tutorial we will go more into detail on these concepts.\n",
    "\n",
    "\n",
    "## Pendulum Swing-up\n",
    "\n",
    "We will create an environment for solving the classic control problem of swinging up an underactuated pendulum, very similar to the [Pendulum-v0 environment](https://gym.openai.com/envs/Pendulum-v0/).\n",
    "Our goal is to swing up this pendulum to the upright position and keep it there, while minimizing the velocity of the pendulum and the input voltage.\n",
    "\n",
    "Since the dynamics of a pendulum actuated by a DC motor are well known, we can simulate the pendulum by integrating its equations of motion:\n",
    "\n",
    "\n",
    "<img src=\"./figures/eom.svg\" />\n",
    "\n",
    "where theta is the angle w.r.t. upright position, theta dot the angular velocity, u the input voltage, J the inertia, m the mass, g the gravitational constant, l the length of the pendulum, b the motor viscous friction constant, K the motor constant and R the electric resistance.\n",
    "\n",
    "\n",
    "\n",
    "<img src=\"./figures/pendulum.GIF\" width=\"480\" height=\"480\" />\n",
    "\n",
    "\n",
    "## How to run this Notebook\n",
    "\n",
    "Note that EAGERx makes use of ROS 1 functionality.\n",
    "Therefore ROS 1 should be [installed](http://wiki.ros.org/ROS/Installation) on your system.\n",
    "Note that it should also be sourced:\n",
    "```bash\n",
    "source /opt/ros/<distro>/setup.bash.\n",
    "```\n",
    "Where `<distro>` should be replaced with your ROS distribution, i.e. `melodic` or `noetic`.\n",
    "\n",
    "There are two ways to install the Python dependencies, i.e. using pip or from source.\n",
    "\n",
    "### Installation using pip\n",
    "Furthermore, the Python dependencies can be installed by running (this will also install `eagerx`):\n",
    "```bash\n",
    "pip3 install eagerx-tutorials\n",
    "```\n",
    "\n",
    "### Installation from source\n",
    "Clone this repository:\n",
    "```bash\n",
    "git clone git@github.com:eager-dev/eagerx_tutorials.git ; cd eagerx_tutorials\n",
    "```\n",
    "then install [Poetry](https://python-poetry.org/) (if not installed yet):\n",
    "```bash\n",
    "curl -sSL https://raw.githubusercontent.com/python-poetry/poetry/master/get-poetry.py | python -\n",
    "```\n",
    "Install this package and its dependencies using Poetry (will also install Jupyterlab if not yet installed):\n",
    "```bash\n",
    "poetry install\n",
    "```\n",
    "Then open Jupyter Notebook from within the Poetry environment\n",
    "```\n",
    "poetry run jupyter lab\n",
    "```"
   ],
   "metadata": {
    "collapsed": false
   }
  },
  {
   "cell_type": "markdown",
   "source": [
    "## Let's get started\n",
    "\n",
    "First we will import EAGERx.\n",
    "Also, we will initialize it.\n",
    "As mentioned before, EAGERx makes use of ROS functionality for communication and during initialization a ROS master is started if there isn't one running already. Note that we set the log level here to `INFO`, putting it to `DEBUG` will give you more output and can be useful when debugging."
   ],
   "metadata": {
    "collapsed": false
   }
  },
  {
   "cell_type": "code",
   "execution_count": 1,
   "outputs": [
    {
     "name": "stdout",
     "output_type": "stream",
     "text": [
      "... logging to /home/jelle/.ros/log/ad376ab6-bccc-11ec-8934-b3b460b7f201/roslaunch-jelle-SATELLITE-P50-C-79064.log\n",
      "\u001b[1mstarted roslaunch server http://jelle-SATELLITE-P50-C:36633/\u001b[0m\n",
      "ros_comm version 1.15.14\n",
      "\n",
      "\n",
      "SUMMARY\n",
      "========\n",
      "\n",
      "PARAMETERS\n",
      " * /rosdistro: noetic\n",
      " * /rosversion: 1.15.14\n",
      "\n",
      "NODES\n",
      "\n",
      "auto-starting new master\n",
      "\u001b[1mprocess[master]: started with pid [79089]\u001b[0m\n",
      "\u001b[1mROS_MASTER_URI=http://localhost:11311\u001b[0m\n",
      "\u001b[1msetting /run_id to ad376ab6-bccc-11ec-8934-b3b460b7f201\u001b[0m\n",
      "\u001b[1mprocess[rosout-1]: started with pid [79105]\u001b[0m\n",
      "started core service [/rosout]\n"
     ]
    },
    {
     "data": {
      "text/plain": [
       "<roslaunch.parent.ROSLaunchParent at 0x7fb6a44fcee0>"
      ]
     },
     "execution_count": 1,
     "metadata": {},
     "output_type": "execute_result"
    }
   ],
   "source": [
    "import eagerx\n",
    "eagerx.initialize(\"eagerx_core\", anonymous=True, log_level=eagerx.log.INFO)"
   ],
   "metadata": {
    "collapsed": false,
    "pycharm": {
     "name": "#%%\n"
    }
   }
  },
  {
   "cell_type": "markdown",
   "id": "701e0a93",
   "metadata": {},
   "source": [
    "An Object is an entitity within EAGERx that consists of sensors, actuators and states. An actuator is an input to an object, a sensor is an output of an object and a state is something that we can reset at the beginning of an episode.\n",
    "\n",
    "We are going to create one object (the pendulum). For this first tutorial, we don't want to go into details too much and start with an existing object. If you are interested, you can find its definition [here](https://github.com/eager-dev/eagerx_tutorials/blob/master/eagerx_tutorials/pendulum/objects.py).\n",
    "Note that we import the pendulum.\n",
    "While this might look like an unused import, it is not.\n",
    "During the import, the pendulum object is registered and we can therefore make it based on its ID, i.e. *Pendulum*."
   ]
  },
  {
   "cell_type": "code",
   "execution_count": 2,
   "id": "eeaac748",
   "metadata": {},
   "outputs": [],
   "source": [
    "import eagerx_tutorials.pendulum  # Registers Pendulum\n",
    "\n",
    "# Create pendulum\n",
    "pendulum = eagerx.Object.make(\n",
    "    \"Pendulum\", \"pendulum\", actuators=[\"voltage\"], sensors=[\"angle_sensor\"], states=[\"model_state\"],\n",
    ")"
   ]
  },
  {
   "cell_type": "markdown",
   "id": "5d2f0c2d",
   "metadata": {},
   "source": [
    "Next, we create a [Graph](https://eagerx.readthedocs.io/en/master/guide/api_reference/graph/graph.html) and add the pendulum to it.\n",
    "\n",
    "The graph describes the interconnect of nodes and objects.\n",
    "In this way, the creation of an environment becomes modular.\n",
    "This allows users to create an implementation for nodes and objects once, and easily create new environments by reusing these implementations.\n",
    "Also, this allows to construct complex environments using a the nodes and objects as basic building blocks."
   ]
  },
  {
   "cell_type": "code",
   "execution_count": 3,
   "id": "2686fa8a",
   "metadata": {},
   "outputs": [],
   "source": [
    "# Define rate (depends on rate of ode)\n",
    "rate = 30.0\n",
    "\n",
    "# Initialize empty graph\n",
    "graph = eagerx.Graph.create()\n",
    "\n",
    "# Add pendulum to the graph\n",
    "graph.add(pendulum)\n",
    "\n",
    "# Connect the pendulum to an action and observation\n",
    "graph.connect(action=\"action\", target=pendulum.actuators.voltage)\n",
    "graph.connect(source=pendulum.sensors.angle_sensor, observation=\"observation\", window=1)"
   ]
  },
  {
   "cell_type": "markdown",
   "id": "99f0b265",
   "metadata": {},
   "source": [
    "It is also possible to inspect the graph using the eagerx-gui package.\n",
    "It can be installed as follows:\n",
    "```bash\n",
    "pip3 install eagerx-gui\n",
    "```\n",
    "Jupyter notebooks have limited support for interactive applications, so we cannot open the GUI here.\n",
    "But if we were to run\n",
    "```python\n",
    "graph.gui()\n",
    "```\n",
    "The ouput would be as follows:\n",
    "<img src=\"./figures/tutorial_1_gui.svg\">"
   ]
  },
  {
   "cell_type": "markdown",
   "id": "f8410ce6",
   "metadata": {},
   "source": [
    "Next, we will create the [Bridge](https://eagerx.readthedocs.io/en/master/guide/api_reference/bridge/index.html).\n",
    "Since objects can have implementions for multiple physics engines and real systems, we need to initialize the appropriate bridge.\n",
    "In our case, we will use the [OdeBridge](https://github.com/eager-dev/eagerx_ode), which allows to simulate systems based on ordinary differential equations (ODEs).\n",
    "In other tutorials we will go more into detail on the bridge and how you can create your own bridge.\n",
    "For now, what want to make clear is that the bridge has the `is_reactive` argument.\n",
    "When set to `True`, the environment will run reactive which will ensure synchronicity of all messages, e.g. the actions and observations."
   ]
  },
  {
   "cell_type": "code",
   "execution_count": 4,
   "id": "badb2076",
   "metadata": {},
   "outputs": [],
   "source": [
    "import eagerx_ode  # Registers OdeBridge\n",
    "\n",
    "# Define bridges\n",
    "bridge = eagerx.Bridge.make(\"OdeBridge\", rate=rate, is_reactive=True, process=eagerx.process.ENVIRONMENT)"
   ]
  },
  {
   "cell_type": "markdown",
   "id": "d0c48b43",
   "metadata": {},
   "source": [
    "Just like in normal Gym environments, we will create a step function in which we will calculate the reward at each time step and check for termination conditions.\n",
    "\n",
    "Note that we obtaion the values of the keys *action* and *observation*, which correspond to the names of the actions and observations above in the screenshot of the GUI."
   ]
  },
  {
   "cell_type": "code",
   "execution_count": 5,
   "id": "382dd9b5",
   "metadata": {},
   "outputs": [],
   "source": [
    "import numpy as np\n",
    "\n",
    "# Define step function\n",
    "def step_fn(prev_obs, obs, action, steps):\n",
    "    # Get observation and action\n",
    "    state = obs[\"observation\"][0]\n",
    "    u = action[\"action\"][0]\n",
    "    \n",
    "    # Calculate reward\n",
    "    sin_th, cos_th, thdot = state\n",
    "    th = np.arctan2(sin_th, cos_th)\n",
    "    \n",
    "    cost = th**2 + 0.1 * thdot**2 + 0.001 * u**2\n",
    "    \n",
    "    # Determine done flag\n",
    "    done = steps > 500\n",
    "    \n",
    "    # Set info:\n",
    "    info = dict()\n",
    "    \n",
    "    return obs, -cost, done, info"
   ]
  },
  {
   "cell_type": "markdown",
   "id": "58c6766f",
   "metadata": {},
   "source": [
    "Having created a graph, a bridge and a step function, we can now construct the EAGERx environment."
   ]
  },
  {
   "cell_type": "code",
   "execution_count": 6,
   "id": "e5dbe23c",
   "metadata": {},
   "outputs": [
    {
     "name": "stdout",
     "output_type": "stream",
     "text": [
      "[INFO] [1650034782.572007]: Node \"/rx/env/supervisor\" initialized.\n",
      "[INFO] [1650034782.760422]: Node \"/rx/bridge\" initialized.\n",
      "[INFO] [1650034782.903262]: Node \"/rx/environment\" initialized.\n"
     ]
    }
   ],
   "source": [
    "from eagerx.wrappers import Flatten\n",
    "\n",
    "# Initialize Environment\n",
    "env = Flatten(eagerx.EagerxEnv(name=\"rx\", rate=rate, graph=graph, bridge=bridge, step_fn=step_fn))"
   ]
  },
  {
   "cell_type": "markdown",
   "id": "06ae7093",
   "metadata": {},
   "source": [
    "The environment we have created, can be used like any other Gym environment.\n",
    "Here we will now train a policy to swing up the pendulum using the Soft Actor Critic (SAC) reinforcement learning algorithm implementation from [Stable Baselines 3](https://stable-baselines3.readthedocs.io/en/master/)."
   ]
  },
  {
   "cell_type": "code",
   "execution_count": 7,
   "id": "19aaa2b8",
   "metadata": {},
   "outputs": [
    {
     "name": "stdout",
     "output_type": "stream",
     "text": [
      "[INFO] [1650034783.055805]: Adding object \"pendulum\" of type \"Pendulum\" to the simulator.\n",
      "[INFO] [1650034783.336079]: Node \"/rx/pendulum/angle_sensor\" initialized.\n",
      "[INFO] [1650034783.377763]: Node \"/rx/pendulum/image\" initialized.\n",
      "[INFO] [1650034783.401438]: Node \"/rx/pendulum/pendulum_actuator\" initialized.\n",
      "[INFO] [1650034783.430419]: Node \"/rx/pendulum/applied\" initialized.\n",
      "Using cpu device\n",
      "Wrapping the env with a `Monitor` wrapper\n",
      "Wrapping the env in a DummyVecEnv.\n",
      "[INFO] [1650034783.967257]: Nodes initialized.\n",
      "[INFO] [1650034784.033796]: Pipelines initialized.\n",
      "----------------------------------\n",
      "| rollout/           |           |\n",
      "|    ep_len_mean     | 501       |\n",
      "|    ep_rew_mean     | -3.98e+03 |\n",
      "| time/              |           |\n",
      "|    episodes        | 4         |\n",
      "|    fps             | 47        |\n",
      "|    time_elapsed    | 42        |\n",
      "|    total_timesteps | 2004      |\n",
      "| train/             |           |\n",
      "|    actor_loss      | 68.9      |\n",
      "|    critic_loss     | 14.7      |\n",
      "|    ent_coef        | 0.67      |\n",
      "|    ent_coef_loss   | -0.035    |\n",
      "|    learning_rate   | 0.0003    |\n",
      "|    n_updates       | 1903      |\n",
      "----------------------------------\n",
      "----------------------------------\n",
      "| rollout/           |           |\n",
      "|    ep_len_mean     | 501       |\n",
      "|    ep_rew_mean     | -3.67e+03 |\n",
      "| time/              |           |\n",
      "|    episodes        | 8         |\n",
      "|    fps             | 46        |\n",
      "|    time_elapsed    | 85        |\n",
      "|    total_timesteps | 4008      |\n",
      "| train/             |           |\n",
      "|    actor_loss      | 128       |\n",
      "|    critic_loss     | 55.7      |\n",
      "|    ent_coef        | 0.533     |\n",
      "|    ent_coef_loss   | -0.102    |\n",
      "|    learning_rate   | 0.0003    |\n",
      "|    n_updates       | 3907      |\n",
      "----------------------------------\n",
      "[INFO] [1650034901.600585]: [rx][/rx/bridge] Shutting down.\n",
      "[INFO] [1650034901.602265]: [/rx/bridge] Shutting down '/rx/pendulum/angle_sensor'.\n",
      "[INFO] [1650034901.603573]: [/rx/pendulum/angle_sensor] Shutting down.\n",
      "[INFO] [1650034901.671030]: [/rx/bridge] Shutting down '/rx/pendulum/image'.\n",
      "[INFO] [1650034901.672448]: [/rx/pendulum/image] Shutting down.\n",
      "[INFO] [1650034901.673645]: [/rx/bridge] Shutting down '/rx/pendulum/pendulum_actuator'.\n",
      "[INFO] [1650034901.674559]: [/rx/pendulum/pendulum_actuator] Shutting down.\n",
      "[INFO] [1650034901.675647]: [/rx/bridge] Shutting down '/rx/pendulum/applied'.\n",
      "[INFO] [1650034901.676744]: [/rx/pendulum/applied] Shutting down.\n",
      "[INFO] [1650034901.677867]: [/rx/bridge] Shutting down.\n",
      "[INFO] [1650034901.679956]: [/rx/env/supervisor] Shutting down.\n",
      "[INFO] [1650034901.684480]: [/rx/environment] Shutting down.\n",
      "[INFO] [1650034901.687747]: Parameters under namespace \"/rx\" deleted.\n"
     ]
    }
   ],
   "source": [
    "import stable_baselines3 as sb\n",
    "\n",
    "# Initialize learner\n",
    "model = sb.SAC(\"MlpPolicy\", env, verbose=1, device=\"cpu\")\n",
    "\n",
    "# Train for 3 minutes (sim time)\n",
    "model.learn(total_timesteps=int(180 * rate))\n",
    "\n",
    "env.shutdown()"
   ]
  }
 ],
 "metadata": {
  "kernelspec": {
   "display_name": "Python 3 (ipykernel)",
   "language": "python",
   "name": "python3"
  },
  "language_info": {
   "codemirror_mode": {
    "name": "ipython",
    "version": 3
   },
   "file_extension": ".py",
   "mimetype": "text/x-python",
   "name": "python",
   "nbconvert_exporter": "python",
   "pygments_lexer": "ipython3",
   "version": "3.8.10"
  }
 },
 "nbformat": 4,
 "nbformat_minor": 5
}