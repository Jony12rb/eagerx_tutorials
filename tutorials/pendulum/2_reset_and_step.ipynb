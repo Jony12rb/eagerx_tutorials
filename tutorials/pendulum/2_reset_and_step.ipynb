{
 "cells": [
  {
   "cell_type": "markdown",
   "id": "eb4c98be-8431-4ded-aec2-32aa5179725e",
   "metadata": {},
   "source": [
    "# Tutorial 2: Specifying the Reset and Step Function of the Environment\n",
    "\n",
    "In this tutorial, we will show how to create a gym environment using [EAGERx](https://eagerx.readthedocs.io/en/master/) while specifying the [step function](https://eagerx.readthedocs.io/en/master/guide/api_reference/env/index.html#eagerx.core.env.EagerxEnv.step_fn) and [reset function](https://eagerx.readthedocs.io/en/master/guide/api_reference/env/index.html#eagerx.core.env.EagerxEnv.reset_fn).\n",
    "\n",
    "The aim of this tutorial cover the following concepts of EAGERx:\n",
    "- Extracting observations in the [step_fn](https://eagerx.readthedocs.io/en/master/guide/api_reference/env/index.html#eagerx.core.env.EagerxEnv.step_fn)\n",
    "- Resetting states using the [reset_fn](https://eagerx.readthedocs.io/en/master/guide/api_reference/env/index.html#eagerx.core.env.EagerxEnv.reset_fn)\n",
    "- The `window` argument of the [connect method](https://eagerx.readthedocs.io/en/master/guide/api_reference/graph/graph.html?highlight=connect#eagerx.core.graph.Graph.connect)\n",
    "- Simulating delays using the `delay` argument of the [connect method](https://eagerx.readthedocs.io/en/master/guide/api_reference/graph/graph.html?highlight=connect#eagerx.core.graph.Graph.connect)\n",
    "\n",
    "In the remainder of this tutorial we will go more into detail on these concepts.\n",
    "\n",
    "## Pendulum Swing-up\n",
    "\n",
    "We will create an environment for solving the classic control problem of swinging up an underactuated pendulum, very similar to the [Pendulum-v0 environment](https://gym.openai.com/envs/Pendulum-v0/).\n",
    "Our goal is to swing up this pendulum to the upright position and keep it there, while minimizing the velocity of the pendulum and the input voltage.\n",
    "\n",
    "Since the dynamics of a pendulum actuated by a DC motor are well known, we can simulate the pendulum by integrating the corresponding ordinary differential equations (ODEs):\n",
    "\n",
    "\n",
    "$\\mathbf{x} = \\begin{bmatrix} \\theta \\\\ \\dot{\\theta} \\end{bmatrix} \\\\ \\dot{\\mathbf{x}} = \\begin{bmatrix} \\dot{\\theta} \\\\ \\frac{1}{J}(\\frac{K}{R}u - mgl \\sin{\\theta} - b \\dot{\\theta} - \\frac{K^2}{R}\\dot{\\theta})\\end{bmatrix}$\n",
    "\n",
    "with $\\theta$ the angle w.r.t. upright position, $\\dot{\\theta}$ the angular velocity, $u$ the input voltage, $J$ the inertia, $m$ the mass, $g$ the gravitational constant, $l$ the length of the pendulum, $b$ the motor viscous friction constant, $K$ the motor constant and $R$ the electric resistance.\n",
    "\n",
    "## Notebook Setup\n",
    "\n",
    "In order to be able to run the code, we need to install the *eagerx_tutorials* package and ROS."
   ]
  },
  {
   "cell_type": "code",
   "execution_count": 5,
   "id": "985d462b-fdc5-4539-bd18-a58eafd22353",
   "metadata": {},
   "outputs": [
    {
     "name": "stdout",
     "output_type": "stream",
     "text": [
      "Not running on CoLab.\n",
      "Execute ROS commands as \"!...\".\n",
      "ROS noetic available.\n"
     ]
    }
   ],
   "source": [
    "try:\n",
    "    import eagerx_tutorials\n",
    "except ImportError:\n",
    "    !{\"pip install eagerx-tutorials  >> /tmp/eagerx_install.txt\"}\n",
    "if 'google.colab' in str(get_ipython()):\n",
    "  !{\"curl 'https://raw.githubusercontent.com/eager-dev/eagerx_tutorials/master/scripts/setup_colab.sh' > ~/setup_colab.sh\"}\n",
    "  !{\"bash ~/setup_colab.sh\"}\n",
    "\n",
    "# Setup interactive notebook\n",
    "# Required in interactive notebooks only.\n",
    "from eagerx_tutorials import helper\n",
    "helper.setup_notebook()\n",
    "env = None\n",
    "\n",
    "# Allows reloading of registered entites from changed files\n",
    "# Required in interactive notebooks only.\n",
    "%reload_ext autoreload\n",
    "%autoreload 1"
   ]
  },
  {
   "cell_type": "markdown",
   "id": "6b4d44bf-fbe9-4f22-a4ab-15c40decb6ad",
   "metadata": {},
   "source": [
    "## Let's get started\n",
    "\n",
    "We start by importing the required packages and initializing EAGERx."
   ]
  },
  {
   "cell_type": "code",
   "execution_count": 6,
   "id": "00d59319-5b5f-4760-8c19-cc3279cac896",
   "metadata": {},
   "outputs": [
    {
     "name": "stdout",
     "output_type": "stream",
     "text": [
      "... logging to /home/jelle/.ros/log/9f2e2914-c14f-11ec-899a-774a4722e19d/roslaunch-jelle-Alienware-m15-R4-66309.log\n",
      "\u001b[1mstarted roslaunch server http://145.94.60.89:41743/\u001b[0m\n",
      "ros_comm version 1.15.14\n",
      "\n",
      "\n",
      "SUMMARY\n",
      "========\n",
      "\n",
      "PARAMETERS\n",
      " * /rosdistro: noetic\n",
      " * /rosversion: 1.15.14\n",
      "\n",
      "NODES\n",
      "\n"
     ]
    },
    {
     "name": "stderr",
     "output_type": "stream",
     "text": [
      "[WARN] [1650544220.688696]: Roscore cannot run as another roscore/master is already running. Continuing without re-initializing the roscore.\n"
     ]
    }
   ],
   "source": [
    "import eagerx\n",
    "import eagerx_tutorials.pendulum  # Registers Pendulum\n",
    "import eagerx_ode  # Registers OdeBridge\n",
    "\n",
    "# Initialize eagerx (starts roscore if not already started.)\n",
    "eagerx.initialize(\"eagerx_core\")"
   ]
  },
  {
   "cell_type": "markdown",
   "id": "df883914-af6b-4d82-a1a7-6045b70347ff",
   "metadata": {},
   "source": [
    "Next, we make the *Pendulum* object and add it to an empty graph, just like we did in the [first tutorial](https://colab.research.google.com/github/eager-dev/eagerx_tutorials/blob/master/tutorials/pendulum/pendulum_1.ipynb).\n",
    "\n",
    "We will again connect the *voltage* actuator of the *Pendulum* to an action that we will call *voltage_action* and connect the *angle_sensor* to an observation, which we will call *angle_observation*.\n",
    "However, we will now go a bit more into detail on the [connect method](https://eagerx.readthedocs.io/en/master/guide/api_reference/graph/graph.html?highlight=connect#eagerx.core.graph.Graph.connect).\n",
    "When connecting outputs, sensors or actions, we can specify among other things the `window` of the connection.\n",
    "It specifies how to deal with messages that are sent between nodes in between calls to their callback.\n",
    "In some cases it makes sense to use the last one only; in others you would like to receive all messages between calls.\n",
    "This can be achieved by setting the `window` size:\n",
    "\n",
    "- `window` $= 1$: Only the last received input message are available to the receiver.\n",
    "- `window` $= x \\ge 1$: The trailing last $x$ received input messages are available to the receiver ($1 \\le$ received number of messages $\\le$ `window` ).\n",
    "- `window` $= 0$: All input messages received since the last call to the node's callback are available.\n",
    "\n",
    "This is in particular relevant when connecting to observations, since it has consequences for the size of the observation space.\n",
    "When connecting to an observation with `window` $= 0$, this observation will **not** be included in the observation space of the agent, because its dimensions might change every time step and are therefore unknown on beforehand.\n",
    "Also worth noting, is that for observations if `window` $= x > 1$, at time step $t < x$, the first message is repeated $x - t$ times to ensure that the dimensions of the observation space are consistent."
   ]
  },
  {
   "cell_type": "code",
   "execution_count": 13,
   "id": "ca2e099b-1723-45d4-9ade-44ec3475002a",
   "metadata": {},
   "outputs": [],
   "source": [
    "# Define rate (Hz)\n",
    "rate = 30.0\n",
    "\n",
    "# Make pendulum\n",
    "pendulum = eagerx.Object.make(\"Pendulum\", \"pendulum\", actuators=[\"voltage\"], sensors=[\"angle_sensor\"], states=[\"model_state\"])\n",
    "\n",
    "# Initialize empty graph\n",
    "graph = eagerx.Graph.create()\n",
    "\n",
    "# Add pendulum to the graph\n",
    "graph.add(pendulum)\n",
    "\n",
    "# Connect the pendulum to an action and observation\n",
    "# We will now explicitly set the window size\n",
    "graph.connect(action=\"voltage_action\", target=pendulum.actuators.voltage, window=1)\n",
    "graph.connect(source=pendulum.sensors.angle_sensor, observation=\"angle_observation\", window=1)\n",
    "\n",
    "# Make OdeBridge\n",
    "bridge = eagerx.Bridge.make(\"OdeBridge\", rate=rate)"
   ]
  },
  {
   "cell_type": "markdown",
   "id": "ad124293-588e-46b4-8f39-99f8461a10a0",
   "metadata": {},
   "source": [
    "Using the [*eagerx_gui* package](https://github.com/eager-dev/eagerx_gui), we see that the graph looks as follows:\n",
    "\n",
    "\n",
    "```python\n",
    "graph.gui()\n",
    "```\n",
    "<img src=\"./figures/tutorial_1_gui.svg\" width=720>"
   ]
  },
  {
   "cell_type": "markdown",
   "id": "c690463d-1998-4095-9f7e-8eced4a4196c",
   "metadata": {},
   "source": [
    "We will now define the [step function](https://eagerx.readthedocs.io/en/master/guide/api_reference/env/index.html#eagerx.core.env.EagerxEnv.step_fn).\n",
    "Here we define the `reward` and fill the `info` dictionary at each time step.\n",
    "Since we want to stabilize the pendulum in upright position — while minimising the input voltage — we define the reward to be a weighted sum of $\\theta^2$, $\\dot{\\theta^2}$ and $u^2$.\n",
    "\n",
    "We will elaborate a bit more on this step function.\n",
    "The step function is an argument to the [EagerxEnv](https://eagerx.readthedocs.io/en/master/guide/api_reference/env/index.html#eagerx.core.env.EagerxEnv).\n",
    "This function is called by the EAGERx environment every time step and it returns the same things as the `step()` method of OpenAI Gym environments, i.e. `observation` (**dict**), `reward` (**float**), `done` (**boolean**) and `info` (**dict**).\n",
    "More information on this can be found [here](https://gym.openai.com/docs/#observations).\n",
    "The input to the step function in EAGERx are:\n",
    "\n",
    "- `previous_observation` (**dict**): The `observation` at the previous timestep.\n",
    "- `observation` (**dict**): The `observation` at the current timestep.\n",
    "- `action` (**dict**): The agent's action at the current timestep. \n",
    "- `steps` (**int**): The number of timesteps since the start of the episode (since the last reset).\n",
    "\n",
    "Note that the `observation` is both an input and output of this function and should only be used for extracting information and should not be manipulated.\n",
    "\n",
    "The keys of observations and dictionaries correspond to respectively the value of the `observation` and `action` argument provided in the [connect method](https://eagerx.readthedocs.io/en/master/guide/api_reference/graph/graph.html?highlight=connect#eagerx.core.graph.Graph.connect).\n"
   ]
  },
  {
   "cell_type": "code",
   "execution_count": null,
   "id": "e0949c08-00d3-4a9a-9c6f-cb8f304d5994",
   "metadata": {},
   "outputs": [],
   "source": [
    "import numpy as np\n",
    "from typing import Dict\n",
    "\n",
    "# Define step function\n",
    "def step_fn(previous_observation: Dict[str, np.ndarray], observation: Dict[str, np.ndarray], action: Dict[str, np.ndarray], steps: int):\n",
    "    \n",
    "    # Get observation and action\n",
    "    # Take first element because of window size\n",
    "    state = observation[\"angle_observation\"][0] \n",
    "    # Convert from numpy array to float\n",
    "    u = float(action[\"voltage_action\"])\n",
    "    \n",
    "    # Get angle and angular velocity\n",
    "    th, thdot = state\n",
    "    \n",
    "    # Normalize angle so it lies in [-pi, pi]\n",
    "    th -= 2 * np.pi * np.floor((th + np.pi) / (2 * np.pi))\n",
    "    \n",
    "    # Calculate cost\n",
    "    # Penalize angle error, angular velocity and input voltage\n",
    "    cost = th**2 + 0.1 * thdot**2 + 0.001 * u**2  \n",
    "    \n",
    "    # Determine when is the episode over\n",
    "    # currently just a timeout after 100 steps\n",
    "    done = steps > 100\n",
    "    \n",
    "    # Set info, tell the algorithm the termination was due to a timeout\n",
    "    # (the episode was truncated)\n",
    "    info = {\"TimeLimit.truncated\": steps > 100}\n",
    "    \n",
    "    return observation, -cost, done, info"
   ]
  },
  {
   "cell_type": "code",
   "execution_count": null,
   "id": "c4f29455-a236-41e0-9210-1a47736581fe",
   "metadata": {},
   "outputs": [],
   "source": []
  }
 ],
 "metadata": {
  "kernelspec": {
   "display_name": "Python 3 (ipykernel)",
   "language": "python",
   "name": "python3"
  },
  "language_info": {
   "codemirror_mode": {
    "name": "ipython",
    "version": 3
   },
   "file_extension": ".py",
   "mimetype": "text/x-python",
   "name": "python",
   "nbconvert_exporter": "python",
   "pygments_lexer": "ipython3",
   "version": "3.8.10"
  }
 },
 "nbformat": 4,
 "nbformat_minor": 5
}
