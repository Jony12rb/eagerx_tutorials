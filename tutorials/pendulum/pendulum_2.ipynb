{
 "cells": [
  {
   "cell_type": "code",
   "execution_count": null,
   "outputs": [],
   "source": [
    "!pip install eagerx-tutorials  >> /tmp/eagerx_install.txt\n",
    "if 'google.colab' in str(get_ipython()):\n",
    "  !{\"curl 'https://raw.githubusercontent.com/eager-dev/eagerx_tutorials/master/scripts/setup_colab.sh' > ~/setup_colab.sh\"}\n",
    "  !{\"bash ~/setup_colab.sh\"}\n",
    "\n",
    "# Setup interactive notebook\n",
    "from eagerx_tutorials import helper\n",
    "helper.setup_notebook()\n",
    "\n",
    "# Allows reloading of registered entites from changed files\n",
    "# Required in interactive notebooks only.\n",
    "%reload_ext autoreload\n",
    "%autoreload 1"
   ],
   "metadata": {
    "collapsed": false,
    "pycharm": {
     "name": "#%%\n",
     "is_executing": true
    }
   }
  },
  {
   "cell_type": "code",
   "execution_count": 2,
   "outputs": [],
   "source": [
    "import eagerx"
   ],
   "metadata": {
    "collapsed": false,
    "pycharm": {
     "name": "#%%\n"
    }
   }
  },
  {
   "cell_type": "code",
   "execution_count": 3,
   "id": "b36a9d8b",
   "metadata": {},
   "outputs": [
    {
     "name": "stdout",
     "output_type": "stream",
     "text": [
      "... logging to /home/r2ci/.ros/log/b6fa50c2-bd58-11ec-8f0d-010fae9ecfd0/roslaunch-r2ci-Alienware-m15-R4-14318.log\n",
      "\u001B[1mstarted roslaunch server http://192.168.68.129:39911/\u001B[0m\n",
      "ros_comm version 1.15.14\n",
      "\n",
      "\n",
      "SUMMARY\n",
      "========\n",
      "\n",
      "PARAMETERS\n",
      " * /rosdistro: noetic\n",
      " * /rosversion: 1.15.14\n",
      "\n",
      "NODES\n",
      "\n",
      "auto-starting new master\n",
      "\u001B[1mprocess[master]: started with pid [14368]\u001B[0m\n",
      "\u001B[1mROS_MASTER_URI=http://localhost:11311\u001B[0m\n",
      "\u001B[1msetting /run_id to b6fa50c2-bd58-11ec-8f0d-010fae9ecfd0\u001B[0m\n",
      "\u001B[1mprocess[rosout-1]: started with pid [14394]\u001B[0m\n",
      "started core service [/rosout]\n"
     ]
    },
    {
     "data": {
      "text/plain": "<roslaunch.parent.ROSLaunchParent at 0x7f7814720040>"
     },
     "execution_count": 3,
     "metadata": {},
     "output_type": "execute_result"
    }
   ],
   "source": [
    "eagerx.initialize(\"eagerx_core\", anonymous=True, log_level=eagerx.log.INFO)"
   ]
  },
  {
   "cell_type": "code",
   "execution_count": 7,
   "id": "8909e699",
   "metadata": {},
   "outputs": [],
   "source": [
    "from eagerx.core.env import EagerxEnv\n",
    "from eagerx.core.graph import Graph\n",
    "from eagerx.wrappers import Flatten\n",
    "\n",
    "# Implementation specific\n",
    "import eagerx.nodes  # Registers butterworth_filter # noqa # pylint: disable=unused-import\n",
    "import eagerx_ode  # Registers OdeBridge # noqa # pylint: disable=unused-import\n",
    "import eagerx_tutorials  # Registers Pendulum # noqa # pylint: disable=unused-import"
   ]
  },
  {
   "cell_type": "code",
   "execution_count": 8,
   "id": "62babc3e",
   "metadata": {},
   "outputs": [],
   "source": [
    "# Other\n",
    "import numpy as np\n",
    "import stable_baselines3 as sb"
   ]
  },
  {
   "cell_type": "code",
   "execution_count": 9,
   "id": "2686fa8a",
   "metadata": {},
   "outputs": [
    {
     "ename": "AssertionError",
     "evalue": "No entities of type \"Object\" registered.",
     "output_type": "error",
     "traceback": [
      "\u001B[0;31m---------------------------------------------------------------------------\u001B[0m",
      "\u001B[0;31mAssertionError\u001B[0m                            Traceback (most recent call last)",
      "\u001B[0;32m/tmp/ipykernel_14318/3950200598.py\u001B[0m in \u001B[0;36m<cell line: 8>\u001B[0;34m()\u001B[0m\n\u001B[1;32m      6\u001B[0m \u001B[0;34m\u001B[0m\u001B[0m\n\u001B[1;32m      7\u001B[0m \u001B[0;31m# Create pendulum\u001B[0m\u001B[0;34m\u001B[0m\u001B[0;34m\u001B[0m\u001B[0;34m\u001B[0m\u001B[0m\n\u001B[0;32m----> 8\u001B[0;31m \u001B[0mpendulum\u001B[0m \u001B[0;34m=\u001B[0m \u001B[0meagerx\u001B[0m\u001B[0;34m.\u001B[0m\u001B[0mObject\u001B[0m\u001B[0;34m.\u001B[0m\u001B[0mmake\u001B[0m\u001B[0;34m(\u001B[0m\u001B[0;34m\"Pendulum\"\u001B[0m\u001B[0;34m,\u001B[0m \u001B[0;34m\"pendulum\"\u001B[0m\u001B[0;34m,\u001B[0m \u001B[0msensors\u001B[0m\u001B[0;34m=\u001B[0m\u001B[0;34m[\u001B[0m\u001B[0;34m\"pendulum_output\"\u001B[0m\u001B[0;34m,\u001B[0m \u001B[0;34m\"action_applied\"\u001B[0m\u001B[0;34m]\u001B[0m\u001B[0;34m)\u001B[0m\u001B[0;34m\u001B[0m\u001B[0;34m\u001B[0m\u001B[0m\n\u001B[0m\u001B[1;32m      9\u001B[0m \u001B[0;34m\u001B[0m\u001B[0m\n\u001B[1;32m     10\u001B[0m \u001B[0mgraph\u001B[0m\u001B[0;34m.\u001B[0m\u001B[0madd\u001B[0m\u001B[0;34m(\u001B[0m\u001B[0mpendulum\u001B[0m\u001B[0;34m)\u001B[0m\u001B[0;34m\u001B[0m\u001B[0;34m\u001B[0m\u001B[0m\n",
      "\u001B[0;32m~/eagerx-dev/eagerx/eagerx/core/entities.py\u001B[0m in \u001B[0;36mmake\u001B[0;34m(cls, entity_id, *args, **kwargs)\u001B[0m\n\u001B[1;32m     62\u001B[0m         \u001B[0;32mfrom\u001B[0m \u001B[0meagerx\u001B[0m\u001B[0;34m.\u001B[0m\u001B[0mcore\u001B[0m \u001B[0;32mimport\u001B[0m \u001B[0mregister\u001B[0m\u001B[0;34m\u001B[0m\u001B[0;34m\u001B[0m\u001B[0m\n\u001B[1;32m     63\u001B[0m \u001B[0;34m\u001B[0m\u001B[0m\n\u001B[0;32m---> 64\u001B[0;31m         \u001B[0mspec\u001B[0m \u001B[0;34m=\u001B[0m \u001B[0mregister\u001B[0m\u001B[0;34m.\u001B[0m\u001B[0mmake\u001B[0m\u001B[0;34m(\u001B[0m\u001B[0mcls\u001B[0m\u001B[0;34m,\u001B[0m \u001B[0mentity_id\u001B[0m\u001B[0;34m,\u001B[0m \u001B[0;34m*\u001B[0m\u001B[0margs\u001B[0m\u001B[0;34m,\u001B[0m \u001B[0;34m**\u001B[0m\u001B[0mkwargs\u001B[0m\u001B[0;34m)\u001B[0m\u001B[0;34m\u001B[0m\u001B[0;34m\u001B[0m\u001B[0m\n\u001B[0m\u001B[1;32m     65\u001B[0m         \u001B[0;32mtry\u001B[0m\u001B[0;34m:\u001B[0m\u001B[0;34m\u001B[0m\u001B[0;34m\u001B[0m\u001B[0m\n\u001B[1;32m     66\u001B[0m             \u001B[0mcls\u001B[0m\u001B[0;34m.\u001B[0m\u001B[0mcheck_spec\u001B[0m\u001B[0;34m(\u001B[0m\u001B[0mspec\u001B[0m\u001B[0;34m)\u001B[0m\u001B[0;34m\u001B[0m\u001B[0;34m\u001B[0m\u001B[0m\n",
      "\u001B[0;32m~/eagerx-dev/eagerx/eagerx/core/register.py\u001B[0m in \u001B[0;36mmake\u001B[0;34m(entity, id, *args, **kwargs)\u001B[0m\n\u001B[1;32m     97\u001B[0m \u001B[0;32mdef\u001B[0m \u001B[0mmake\u001B[0m\u001B[0;34m(\u001B[0m\u001B[0mentity\u001B[0m\u001B[0;34m,\u001B[0m \u001B[0mid\u001B[0m\u001B[0;34m,\u001B[0m \u001B[0;34m*\u001B[0m\u001B[0margs\u001B[0m\u001B[0;34m,\u001B[0m \u001B[0;34m**\u001B[0m\u001B[0mkwargs\u001B[0m\u001B[0;34m)\u001B[0m\u001B[0;34m:\u001B[0m\u001B[0;34m\u001B[0m\u001B[0;34m\u001B[0m\u001B[0m\n\u001B[1;32m     98\u001B[0m     \u001B[0;34m\"\"\"Make an entity with the registered spec function\"\"\"\u001B[0m\u001B[0;34m\u001B[0m\u001B[0;34m\u001B[0m\u001B[0m\n\u001B[0;32m---> 99\u001B[0;31m     \u001B[0;32massert\u001B[0m \u001B[0mentity\u001B[0m \u001B[0;32min\u001B[0m \u001B[0mREGISTRY\u001B[0m\u001B[0;34m,\u001B[0m \u001B[0;34mf'No entities of type \"{entity.__name__}\" registered.'\u001B[0m\u001B[0;34m\u001B[0m\u001B[0;34m\u001B[0m\u001B[0m\n\u001B[0m\u001B[1;32m    100\u001B[0m     assert (\n\u001B[1;32m    101\u001B[0m         \u001B[0mid\u001B[0m \u001B[0;32min\u001B[0m \u001B[0mREGISTRY\u001B[0m\u001B[0;34m[\u001B[0m\u001B[0mentity\u001B[0m\u001B[0;34m]\u001B[0m\u001B[0;34m\u001B[0m\u001B[0;34m\u001B[0m\u001B[0m\n",
      "\u001B[0;31mAssertionError\u001B[0m: No entities of type \"Object\" registered."
     ]
    }
   ],
   "source": [
    "# Define rate (depends on rate of ode)\n",
    "rate = 30.0\n",
    "\n",
    "# Initialize empty graph\n",
    "graph = Graph.create()\n",
    "\n",
    "# Create pendulum\n",
    "pendulum = eagerx.Object.make(\"Pendulum\", \"pendulum\", sensors=[\"pendulum_output\", \"action_applied\"])\n",
    "\n",
    "graph.add(pendulum)\n",
    "\n",
    "# Create Butterworth filter\n",
    "bf = eagerx.Node.make(\"ButterworthFilter\", name=\"bf\", rate=rate, Wn=13)\n",
    "graph.add(bf)\n",
    "\n",
    "# Connect the nodes\n",
    "graph.connect(action=\"action\", target=bf.inputs.signal)\n",
    "graph.connect(source=bf.outputs.filtered, target=pendulum.actuators.pendulum_input)\n",
    "graph.connect(source=pendulum.sensors.pendulum_output, observation=\"observation\", window=1)\n",
    "graph.connect(source=pendulum.sensors.action_applied, observation=\"action_applied\", window=1)\n",
    "\n",
    "# Define bridges\n",
    "bridge = eagerx.Bridge.make(\"OdeBridge\", rate=rate, is_reactive=True)\n",
    "\n",
    "# Define step function\n",
    "def step_fn(prev_obs, obs, action, steps):\n",
    "    state = obs[\"observation\"][0]\n",
    "    u = action[\"action\"][0]\n",
    "    \n",
    "    # Calculate reward\n",
    "    sin_th, cos_th, thdot = state\n",
    "    th = np.arctan2(sin_th, cos_th)\n",
    "    \n",
    "    cost = th**2 + 0.1 * thdot**2 + 0.001 * (u**2)\n",
    "    \n",
    "    # Determine done flag\n",
    "    done = steps > 500\n",
    "    \n",
    "    # Set info:\n",
    "    info = dict()\n",
    "    \n",
    "    return obs, -cost, done, info\n",
    "\n",
    "# Initialize Environment\n",
    "env = Flatten(EagerxEnv(name=\"rx\", rate=rate, graph=graph, bridge=bridge, step_fn=step_fn))\n",
    "\n",
    "# Initialize learner\n",
    "model = sb.SAC(\"MlpPolicy\", env, verbose=1, device=\"cpu\")\n",
    "\n",
    "# Train for 3 minutes\n",
    "model.learn(total_timesteps=int(1800 * rate))"
   ]
  },
  {
   "cell_type": "code",
   "execution_count": null,
   "id": "e5dbe23c",
   "metadata": {},
   "outputs": [],
   "source": []
  }
 ],
 "metadata": {
  "kernelspec": {
   "display_name": "Python 3 (ipykernel)",
   "language": "python",
   "name": "python3"
  },
  "language_info": {
   "codemirror_mode": {
    "name": "ipython",
    "version": 3
   },
   "file_extension": ".py",
   "mimetype": "text/x-python",
   "name": "python",
   "nbconvert_exporter": "python",
   "pygments_lexer": "ipython3",
   "version": "3.8.10"
  }
 },
 "nbformat": 4,
 "nbformat_minor": 5
}