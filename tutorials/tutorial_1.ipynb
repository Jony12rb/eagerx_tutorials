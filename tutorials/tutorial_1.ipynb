{
 "cells": [
  {
   "cell_type": "markdown",
   "id": "5713c18e",
   "metadata": {},
   "source": [
    "# Tutorial 1: EAGERx Environment Creation and Training\n",
    "\n",
    "In this tutorial, we will show a simple example of how to create a gym environment using [EAGERx](https://eagerx.readthedocs.io/en/master/).\n",
    "Also, we will use this environment to train a policy using [Stable Baselines 3](https://stable-baselines3.readthedocs.io/en/master/).\n",
    "\n",
    "The aim of this tutorial is to show some of the key concepts of EAGERx:\n",
    "- Creating a [Graph](https://eagerx.readthedocs.io/en/master/guide/api_reference/graph/graph.html) with an [Object](https://eagerx.readthedocs.io/en/master/guide/api_reference/object/index.html)\n",
    "- How to use this [Graph](https://eagerx.readthedocs.io/en/master/guide/api_reference/graph/graph.html) and a [Bridge](https://eagerx.readthedocs.io/en/master/guide/api_reference/bridge/index.html) to create an [Eagerx Environment](https://eagerx.readthedocs.io/en/master/guide/api_reference/env/index.html)\n",
    "\n",
    "In the remainder of this tutorial we will go more into detail on these concepts.\n",
    "\n",
    "\n",
    "## Pendulum Swing-up\n",
    "\n",
    "We will create an environment for solving the classic control problem of swinging up an underactuated pendulum, very similar to the [Pendulum-v0 environment](https://gym.openai.com/envs/Pendulum-v0/).\n",
    "Our goal is to swing up this pendulum to the upright position and keep it there, while minimizing the velocity of the pendulum and the input voltage.\n",
    "\n",
    "\n",
    "## How to run this Notebook\n",
    "\n",
    "Note that EAGERx makes use of ROS 1 functionality.\n",
    "Therefore ROS 1 should be [installed](http://wiki.ros.org/ROS/Installation) on your system.\n",
    "Note that it should also be sourced:\n",
    "```bash\n",
    "source /opt/ros/<distro>/setup.bash.\n",
    "```\n",
    "Where `<distro>` should be replaced with your ROS distribution, i.e. `melodic` or `noetic`.\n",
    "Furthermore, the Python dependencies can be installed by running (this will also install `eagerx`):\n",
    "```bash\n",
    "pip install eagerx-tutorials\n",
    "```"
   ]
  },
  {
   "cell_type": "markdown",
   "id": "11f3ae94",
   "metadata": {},
   "source": [
    "Now we are ready to go!\n",
    "First we will import EAGERx.\n",
    "Also, we will initialize it.\n",
    "As mentioned before, EAGERx makes use of ROS functionality for communication and during initialization a ROS master is started if there isn't one running already. Note that we set the log level here to `INFO`, putting it to `DEBUG` will give you more output and can be useful when debugging."
   ]
  },
  {
   "cell_type": "code",
   "execution_count": 1,
   "id": "c274764e",
   "metadata": {},
   "outputs": [
    {
     "name": "stdout",
     "output_type": "stream",
     "text": [
      "... logging to /home/jelle/.ros/log/b4cdd1e0-bbd5-11ec-92a9-31cb7b131af7/roslaunch-jelle-Alienware-m15-R4-36551.log\n",
      "\u001b[1mstarted roslaunch server http://145.94.158.246:41279/\u001b[0m\n",
      "ros_comm version 1.15.14\n",
      "\n",
      "\n",
      "SUMMARY\n",
      "========\n",
      "\n",
      "PARAMETERS\n",
      " * /rosdistro: noetic\n",
      " * /rosversion: 1.15.14\n",
      "\n",
      "NODES\n",
      "\n",
      "auto-starting new master\n",
      "\u001b[1mprocess[master]: started with pid [36585]\u001b[0m\n",
      "\u001b[1mROS_MASTER_URI=http://localhost:11311\u001b[0m\n",
      "\u001b[1msetting /run_id to b4cdd1e0-bbd5-11ec-92a9-31cb7b131af7\u001b[0m\n",
      "\u001b[1mprocess[rosout-1]: started with pid [36610]\u001b[0m\n",
      "started core service [/rosout]\n"
     ]
    },
    {
     "data": {
      "text/plain": [
       "<roslaunch.parent.ROSLaunchParent at 0x7f1c88b94d30>"
      ]
     },
     "execution_count": 1,
     "metadata": {},
     "output_type": "execute_result"
    }
   ],
   "source": [
    "import eagerx\n",
    "eagerx.initialize(\"eagerx_core\", anonymous=True, log_level=eagerx.log.INFO)"
   ]
  },
  {
   "cell_type": "markdown",
   "id": "701e0a93",
   "metadata": {},
   "source": [
    "Next, we create a [Graph](https://eagerx.readthedocs.io/en/master/guide/api_reference/graph/graph.html) and add an [Object](https://eagerx.readthedocs.io/en/master/guide/api_reference/object/index.html) to it.\n",
    "\n",
    "The Graph describes the interconnect of Nodes and Objects.\n",
    "In this way, the creation of an environment becomes modular.\n",
    "This allows users to create an implementation for Nodes and Objects once, and easily create new environments by reusing these implementations.\n",
    "Also, this allows to construct complex environments using a the Nodes and Objects as basic building blocks.\n",
    "\n",
    "An Object is an entitity within EAGERx that consists of sensors, actuators and states. An actuator is an input to an object, a sensor is an output of an object and a state is something that we can reset at the beginning of an episode.\n",
    "\n",
    "We are going to create one object (the pendulum).\n",
    "\n"
   ]
  },
  {
   "cell_type": "code",
   "execution_count": 2,
   "id": "2686fa8a",
   "metadata": {},
   "outputs": [],
   "source": [
    "import eagerx_tutorials.pendulum  # Registers Pendulum\n",
    "from eagerx.core.graph import Graph\n",
    "\n",
    "\n",
    "# Define rate (depends on rate of ode)\n",
    "rate = 30.0\n",
    "\n",
    "# Initialize empty graph\n",
    "graph = Graph.create()\n",
    "\n",
    "# Create pendulum\n",
    "pendulum = eagerx.Object.make(\n",
    "    \"Pendulum\", \"pendulum\", actuators=[\"voltage\"], sensors=[\"angle_sensor\"], states=[\"model_state\"],\n",
    ")\n",
    "\n",
    "graph.add(pendulum)\n",
    "\n",
    "# Connect the pendulum to an action and observation\n",
    "graph.connect(action=\"action\", target=pendulum.actuators.voltage)\n",
    "graph.connect(source=pendulum.sensors.angle_sensor, observation=\"observation\", window=1)"
   ]
  },
  {
   "cell_type": "code",
   "execution_count": 3,
   "id": "badb2076",
   "metadata": {},
   "outputs": [],
   "source": [
    "import eagerx_ode  # Registers OdeBridge\n",
    "\n",
    "# Define bridges\n",
    "bridge = eagerx.Bridge.make(\"OdeBridge\", rate=rate, is_reactive=True, process=eagerx.process.ENVIRONMENT)"
   ]
  },
  {
   "cell_type": "code",
   "execution_count": 4,
   "id": "382dd9b5",
   "metadata": {},
   "outputs": [],
   "source": [
    "import numpy as np\n",
    "\n",
    "# Define step function\n",
    "def step_fn(prev_obs, obs, action, steps):\n",
    "    # Get observation and action\n",
    "    state = obs[\"observation\"][0]\n",
    "    u = action[\"action\"][0]\n",
    "    \n",
    "    # Calculate reward\n",
    "    sin_th, cos_th, thdot = state\n",
    "    th = np.arctan2(sin_th, cos_th)\n",
    "    \n",
    "    cost = th**2 + 0.1 * thdot**2 + 0.001 * (u**2)\n",
    "    \n",
    "    # Determine done flag\n",
    "    done = steps > 500\n",
    "    \n",
    "    # Set info:\n",
    "    info = dict()\n",
    "    \n",
    "    return obs, -cost, done, info"
   ]
  },
  {
   "cell_type": "code",
   "execution_count": 5,
   "id": "e5dbe23c",
   "metadata": {},
   "outputs": [
    {
     "name": "stdout",
     "output_type": "stream",
     "text": [
      "[INFO] [1649928709.106482]: Node \"/rx/env/supervisor\" initialized.\n",
      "[INFO] [1649928709.255296]: Node \"/rx/bridge\" initialized.\n",
      "[INFO] [1649928709.376627]: Node \"/rx/environment\" initialized.\n"
     ]
    }
   ],
   "source": [
    "from eagerx.core.env import EagerxEnv\n",
    "from eagerx.wrappers import Flatten\n",
    "\n",
    "# Initialize Environment\n",
    "env = Flatten(EagerxEnv(name=\"rx\", rate=rate, graph=graph, bridge=bridge, step_fn=step_fn))"
   ]
  },
  {
   "cell_type": "code",
   "execution_count": 6,
   "id": "19aaa2b8",
   "metadata": {},
   "outputs": [
    {
     "name": "stdout",
     "output_type": "stream",
     "text": [
      "[INFO] [1649928709.450252]: Adding object \"pendulum\" of type \"Pendulum\" to the simulator.\n",
      "[INFO] [1649928709.632045]: Node \"/rx/pendulum/angle_sensor\" initialized.\n",
      "[INFO] [1649928709.718788]: Node \"/rx/pendulum/pendulum_actuator\" initialized.\n",
      "[INFO] [1649928709.820664]: Waiting for nodes \"['pendulum/pendulum_actuator', 'pendulum/applied']\" to be initialized.\n",
      "Using cpu device\n",
      "Wrapping the env with a `Monitor` wrapper\n",
      "Wrapping the env in a DummyVecEnv.\n",
      "[INFO] [1649928710.061550]: Nodes initialized.\n",
      "[INFO] [1649928710.244832]: Pipelines initialized.\n",
      "----------------------------------\n",
      "| rollout/           |           |\n",
      "|    ep_len_mean     | 501       |\n",
      "|    ep_rew_mean     | -3.82e+03 |\n",
      "| time/              |           |\n",
      "|    episodes        | 4         |\n",
      "|    fps             | 100       |\n",
      "|    time_elapsed    | 19        |\n",
      "|    total_timesteps | 2004      |\n",
      "| train/             |           |\n",
      "|    actor_loss      | 68.6      |\n",
      "|    critic_loss     | 0.557     |\n",
      "|    ent_coef        | 0.709     |\n",
      "|    ent_coef_loss   | 0.0756    |\n",
      "|    learning_rate   | 0.0003    |\n",
      "|    n_updates       | 1903      |\n",
      "----------------------------------\n",
      "----------------------------------\n",
      "| rollout/           |           |\n",
      "|    ep_len_mean     | 501       |\n",
      "|    ep_rew_mean     | -3.54e+03 |\n",
      "| time/              |           |\n",
      "|    episodes        | 8         |\n",
      "|    fps             | 99        |\n",
      "|    time_elapsed    | 40        |\n",
      "|    total_timesteps | 4008      |\n",
      "| train/             |           |\n",
      "|    actor_loss      | 130       |\n",
      "|    critic_loss     | 1.15      |\n",
      "|    ent_coef        | 0.64      |\n",
      "|    ent_coef_loss   | -0.0947   |\n",
      "|    learning_rate   | 0.0003    |\n",
      "|    n_updates       | 3907      |\n",
      "----------------------------------\n",
      "[INFO] [1649928764.326049]: [rx] Send termination signal to '/rx/pendulum/applied'.\n",
      "[INFO] [1649928764.327062]: [rx][/rx/bridge] Shutting down.\n",
      "[INFO] [1649928764.327938]: [/rx/bridge] Shutting down '/rx/pendulum/angle_sensor'.\n",
      "[INFO] [1649928764.328752]: [/rx/pendulum/angle_sensor] Shutting down.\n",
      "[INFO] [1649928764.366792]: [/rx/bridge] Shutting down '/rx/pendulum/pendulum_actuator'.\n",
      "[INFO] [1649928764.367889]: [/rx/pendulum/pendulum_actuator] Shutting down.\n",
      "[INFO] [1649928764.368829]: [/rx/bridge] Shutting down.\n",
      "[INFO] [1649928764.370496]: [/rx/env/supervisor] Shutting down.\n",
      "[INFO] [1649928764.373042]: [/rx/environment] Shutting down.\n",
      "[INFO] [1649928764.375083]: Parameters under namespace \"/rx\" deleted.\n"
     ]
    }
   ],
   "source": [
    "import stable_baselines3 as sb\n",
    "\n",
    "# Initialize learner\n",
    "model = sb.SAC(\"MlpPolicy\", env, verbose=1, device=\"cpu\")\n",
    "\n",
    "# Train for 3 minutes (sim time)\n",
    "model.learn(total_timesteps=int(180 * rate))\n",
    "\n",
    "env.shutdown()"
   ]
  },
  {
   "cell_type": "code",
   "execution_count": null,
   "id": "ee74028a",
   "metadata": {},
   "outputs": [],
   "source": []
  }
 ],
 "metadata": {
  "kernelspec": {
   "display_name": "Python 3 (ipykernel)",
   "language": "python",
   "name": "python3"
  },
  "language_info": {
   "codemirror_mode": {
    "name": "ipython",
    "version": 3
   },
   "file_extension": ".py",
   "mimetype": "text/x-python",
   "name": "python",
   "nbconvert_exporter": "python",
   "pygments_lexer": "ipython3",
   "version": "3.8.10"
  }
 },
 "nbformat": 4,
 "nbformat_minor": 5
}
