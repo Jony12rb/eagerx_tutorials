{
 "cells": [
  {
   "cell_type": "markdown",
   "id": "655b07b3-26ca-4bb8-87b7-e61837e61136",
   "metadata": {},
   "source": [
    "# Tutorial: EAGERx Advanced usage\n",
    "\n",
    "In the remainder of this tutorial, we will go more into detail on these concepts.\n",
    "\n",
    "Furthermore, you will be asked to add/modify a couple of lines of code, which are marked by\n",
    "\n",
    "```python\n",
    "\n",
    "# YOUR CODE HERE\n",
    "\n",
    "# END OF YOUR CODE\n",
    "```\n",
    "\n",
    "## Activate GPU (Colab only)\n",
    "\n",
    "When in Colab, you'll need to enable GPUs for the notebook:\n",
    "\n",
    "- Navigate to Edit→Notebook Settings\n",
    "- select GPU from the Hardware Accelerator drop-down\n",
    "\n",
    "## Notebook Setup\n",
    "\n",
    "In order to be able to run the code, we need to install the *eagerx_tutorials* package and ROS.render_fn=\"disc_pendulum_render_fn\",render_fn=\"disc_pendulum_render_fn\","
   ]
  },
  {
   "cell_type": "code",
   "execution_count": 1,
   "id": "711d19a0-2978-4944-87fd-ce7526cba463",
   "metadata": {},
   "outputs": [
    {
     "name": "stdout",
     "output_type": "stream",
     "text": [
      "Not running on CoLab.\n",
      "Execute ROS commands as \"!...\".\n",
      "ROS noetic available.\n"
     ]
    }
   ],
   "source": [
    "try:\n",
    "    import eagerx_tutorials\n",
    "except ImportError:\n",
    "    !{\"echo 'Installing eagerx-tutorials with pip.' && pip install eagerx-tutorials >> /tmp/eagerx_install.txt 2>&1\"}\n",
    "if 'google.colab' in str(get_ipython()):\n",
    "    !{\"curl 'https://raw.githubusercontent.com/eager-dev/eagerx_tutorials/master/scripts/setup_colab.sh' > ~/setup_colab.sh\"}\n",
    "    !{\"bash ~/setup_colab.sh\"}\n",
    "\n",
    "# Setup interactive notebook\n",
    "# Required in interactive notebooks only.\n",
    "from eagerx_tutorials import helper\n",
    "helper.setup_notebook()"
   ]
  },
  {
   "cell_type": "markdown",
   "id": "c4c6946e-5301-4987-959c-c7d6901918ef",
   "metadata": {},
   "source": [
    "## Let's get started\n",
    "\n",
    "First we will import EAGERx and initialize it.\n",
    "EAGERx makes use of ROS functionality for communication and during initialization a ROS master is started if there isn't one running already."
   ]
  },
  {
   "cell_type": "code",
   "execution_count": 2,
   "id": "4e187238-9d0d-404b-9888-9f60bcdb8dc6",
   "metadata": {
    "pycharm": {
     "name": "#%%\n"
    }
   },
   "outputs": [
    {
     "name": "stdout",
     "output_type": "stream",
     "text": [
      "... logging to /home/r2ci/.ros/log/696bfb52-d78f-11ec-a85f-83d2f95e85fe/roslaunch-r2ci-Alienware-m15-R4-5752.log\n",
      "\u001B[1mstarted roslaunch server http://192.168.68.129:41803/\u001B[0m\n",
      "ros_comm version 1.15.14\n",
      "\n",
      "\n",
      "SUMMARY\n",
      "========\n",
      "\n",
      "PARAMETERS\n",
      " * /rosdistro: noetic\n",
      " * /rosversion: 1.15.14\n",
      "\n",
      "NODES\n",
      "\n",
      "auto-starting new master\n",
      "\u001B[1mprocess[master]: started with pid [5849]\u001B[0m\n",
      "\u001B[1mROS_MASTER_URI=http://localhost:11311\u001B[0m\n",
      "\u001B[1msetting /run_id to 696bfb52-d78f-11ec-a85f-83d2f95e85fe\u001B[0m\n",
      "\u001B[1mprocess[rosout-1]: started with pid [5874]\u001B[0m\n",
      "started core service [/rosout]\n"
     ]
    },
    {
     "data": {
      "text/plain": [
       "<roslaunch.parent.ROSLaunchParent at 0x7fe0c076b550>"
      ]
     },
     "execution_count": 2,
     "metadata": {},
     "output_type": "execute_result"
    }
   ],
   "source": [
    "import eagerx\n",
    "# Initialize eagerx (starts roscore if not already started.)\n",
    "eagerx.initialize(\"eagerx_core\", log_level=eagerx.log.INFO)"
   ]
  },
  {
   "cell_type": "code",
   "execution_count": 3,
   "id": "5955bdd1-7dca-4d42-a000-73e43b740ad2",
   "metadata": {},
   "outputs": [],
   "source": [
    "import numpy as np\n",
    "\n",
    "episode_timeout = 10  # [s]\n",
    "desired_velocity = 20  # [deg/s]\n",
    "env_rate = 50  # [Hz]\n",
    "cpg_rate = 200  # [Hz]\n",
    "cartesian_rate = 200  # [Hz]\n",
    "quad_rate = 200  # [Hz]\n",
    "sim_rate = 200  # [Hz]\n",
    "# sensors = [\"pos\", \"vel\", \"base_orientation\", \"base_pos\", \"base_vel\", \"force_torque\"]  # Todo: works\n",
    "# sensors = [\"pos\", \"vel\", \"base_orientation\", \"base_pos\", \"base_vel\"]\n",
    "sensors = [\"base_orientation\", \"force_torque\"]"
   ]
  },
  {
   "cell_type": "code",
   "execution_count": 4,
   "id": "85258bb6-927f-4ae0-869f-f88decaacc56",
   "metadata": {},
   "outputs": [
    {
     "name": "stderr",
     "output_type": "stream",
     "text": [
      "pybullet build time: Apr 26 2022 03:12:14\n"
     ]
    }
   ],
   "source": [
    "# Initialize empty graph\n",
    "graph = eagerx.Graph.create()\n",
    "\n",
    "# Create robot\n",
    "import eagerx_tutorials.quadruped.object  # noqa: F401\n",
    "robot = eagerx.Object.make(\n",
    "    \"Quadruped\",\n",
    "    \"quadruped\",\n",
    "    actuators=[\"joint_control\"],\n",
    "    sensors=sensors,\n",
    "    rate=quad_rate,\n",
    "    control_mode=\"position_control\",\n",
    "    self_collision=False,\n",
    "    fixed_base=False,\n",
    ")\n",
    "robot.sensors.pos.rate = env_rate\n",
    "robot.sensors.vel.rate = env_rate\n",
    "robot.sensors.force_torque.rate = env_rate\n",
    "robot.sensors.base_orientation.rate = env_rate\n",
    "robot.sensors.base_pos.rate = env_rate\n",
    "robot.sensors.base_vel.rate = env_rate\n",
    "graph.add(robot)\n",
    "\n",
    "# Create cartesian control node\n",
    "import eagerx_tutorials.quadruped.cartesian_control  # noqa: F401\n",
    "cartesian_control = eagerx.Node.make(\"CartesiandPDController\", \"cartesian_control\", rate=cartesian_rate, process=eagerx.process.ENVIRONMENT)\n",
    "graph.add(cartesian_control)\n",
    "\n",
    "# Create cpg node\n",
    "import eagerx_tutorials.quadruped.cpg_gait  # noqa: F401\n",
    "gait = \"TROT\"\n",
    "omega_swing, omega_stance = {\n",
    "    \"JUMP\": [4 * np.pi, 40 * np.pi],\n",
    "    \"TROT\": [16 * np.pi, 4 * np.pi],\n",
    "    \"WALK\": [16 * np.pi, 4 * np.pi],\n",
    "    \"PACE\": [20 * np.pi, 20 * np.pi],\n",
    "    \"BOUND\": [10 * np.pi, 20 * np.pi],\n",
    "}[gait]\n",
    "cpg = eagerx.Node.make(\n",
    "    \"CpgGait\",\n",
    "    \"cpg\",\n",
    "    rate=cpg_rate,\n",
    "    gait=gait,\n",
    "    omega_swing=omega_swing,\n",
    "    omega_stance=omega_stance,\n",
    "    process=eagerx.process.ENVIRONMENT,\n",
    ")\n",
    "graph.add(cpg)"
   ]
  },
  {
   "cell_type": "code",
   "execution_count": 5,
   "id": "d2f1761b-9640-4f04-aa1f-a0da16694c28",
   "metadata": {},
   "outputs": [],
   "source": [
    "# Connect the nodes\n",
    "graph.connect(action=\"offset\", target=cpg.inputs.offset)\n",
    "graph.connect(source=cpg.outputs.cartesian_pos, target=cartesian_control.inputs.cartesian_pos)\n",
    "graph.connect(source=cartesian_control.outputs.joint_pos, target=robot.actuators.joint_control)\n",
    "if \"position\" in sensors:\n",
    "    graph.connect(observation=\"position\", source=robot.sensors.pos)\n",
    "if \"velocity\" in sensors:\n",
    "    graph.connect(observation=\"velocity\", source=robot.sensors.vel)\n",
    "if \"position\" in sensors:\n",
    "    graph.connect(observation=\"base_pos\", source=robot.sensors.base_pos)\n",
    "if \"force_torque\" in sensors:\n",
    "    graph.connect(observation=\"force_torque\", source=robot.sensors.force_torque)\n",
    "if \"base_vel\" in sensors:\n",
    "    graph.connect(observation=\"base_vel\", source=robot.sensors.base_vel)\n",
    "assert \"base_orientation\" in sensors, \"The base_orientation must always be included in the sensors, \" \\\n",
    "                                      \"because it is used to calculate the reward.\"\n",
    "graph.connect(observation=\"base_orientation\", source=robot.sensors.base_orientation, window=2)  # window=2\n",
    "if \"xs_zs\" in sensors:\n",
    "    graph.connect(\n",
    "        observation=\"xs_zs\",\n",
    "        source=cpg.outputs.xs_zs,\n",
    "        skip=True,\n",
    "        initial_obs=[-0.01354526, -0.26941818, 0.0552178, -0.25434446],\n",
    "    )"
   ]
  },
  {
   "cell_type": "code",
   "execution_count": 6,
   "id": "76360a0c-b549-494b-b05f-0b782bd69466",
   "metadata": {},
   "outputs": [],
   "source": [
    "# Define engine\n",
    "engine = eagerx.Engine.make(\n",
    "    \"PybulletEngine\",\n",
    "    rate=sim_rate,\n",
    "    gui=False,\n",
    "    egl=False,\n",
    "    sync=True,\n",
    "    real_time_factor=0,\n",
    "    process=eagerx.process.ENVIRONMENT,\n",
    ")"
   ]
  },
  {
   "cell_type": "code",
   "execution_count": 7,
   "id": "17ff8a4a-3838-4d3d-8c10-329636f1c1f1",
   "metadata": {},
   "outputs": [
    {
     "name": "stdout",
     "output_type": "stream",
     "text": [
      "TEST\n",
      "TEST2\n"
     ]
    }
   ],
   "source": [
    "from typing import Dict, Tuple\n",
    "from eagerx.wrappers import Flatten\n",
    "import pybullet\n",
    "import gym\n",
    "\n",
    "print(\"TEST\")\n",
    "class QuadrupedEnv(eagerx.BaseEnv):\n",
    "    def __init__(self, name, rate, graph, engine, desired_velocity, episode_timeout, force_start=True, debug=False):\n",
    "        super(QuadrupedEnv, self).__init__(name, rate, graph, engine, force_start=force_start)\n",
    "        self.steps = None\n",
    "        self.debug = debug\n",
    "        self.timeout_steps = int(episode_timeout * rate)\n",
    "\n",
    "    @property\n",
    "    def observation_space(self) -> gym.spaces.Dict:\n",
    "        return self._observation_space\n",
    "\n",
    "    @property\n",
    "    def action_space(self) -> gym.spaces.Dict:\n",
    "        return self._action_space\n",
    "\n",
    "    def reset(self):\n",
    "        # Reset number of steps\n",
    "        self.steps = 0\n",
    "\n",
    "        # Sample desired states\n",
    "        states = self.state_space.sample()\n",
    "\n",
    "        # Perform reset\n",
    "        obs = self._reset(states)\n",
    "        return obs\n",
    "\n",
    "    def step(self, action: Dict) -> Tuple[Dict, float, bool, Dict]:\n",
    "        obs = self._step(action)\n",
    "        self.steps += 1\n",
    "\n",
    "        # Calculate reward\n",
    "        alive_bonus = 0.25\n",
    "\n",
    "        # Convert Quaternion to Euler\n",
    "        _, _, prev_yaw = pybullet.getEulerFromQuaternion(obs[\"base_orientation\"][-2])\n",
    "        roll, pitch, yaw = pybullet.getEulerFromQuaternion(obs[\"base_orientation\"][-1])\n",
    "\n",
    "        # Current angular velocity\n",
    "        yaw_rate = (yaw - prev_yaw) * env_rate\n",
    "        desired_yaw_rate = np.deg2rad(desired_velocity)\n",
    "\n",
    "        # yaw_cost = np.linalg.norm(yaw_rate - desired_yaw_rate)\n",
    "        yaw_cost = (yaw_rate - desired_yaw_rate) ** 2\n",
    "        reward = alive_bonus - yaw_cost\n",
    "\n",
    "        if self.debug:\n",
    "            # print(len(obs[\"base_vel\"][0]), len(obs[\"velocity\"][0]))\n",
    "            print(yaw_cost)\n",
    "            # print(obs[\"base_vel\"][0][:2])\n",
    "\n",
    "        # print(list(map(np.rad2deg, (roll, pitch, yaw))))\n",
    "        has_fallen = abs(np.rad2deg(roll)) > 40 or abs(np.rad2deg(pitch)) > 40\n",
    "        timeout = self.steps >= self.timeout_steps\n",
    "\n",
    "        # Determine done flag\n",
    "        done = timeout or has_fallen\n",
    "        # Set info about episode truncation\n",
    "        info = {\"TimeLimit.truncated\": timeout and not has_fallen}\n",
    "        return obs, reward, done, info\n",
    "print(\"TEST2\")"
   ]
  },
  {
   "cell_type": "code",
   "execution_count": 8,
   "id": "cd5a8911-13da-46c2-8b50-fc1d9b3244c7",
   "metadata": {},
   "outputs": [
    {
     "name": "stdout",
     "output_type": "stream",
     "text": [
      "TEST\n",
      "[INFO] [1652977160.022773]: Node \"/QuadrupedEnv/env/supervisor\" initialized.\n"
     ]
    },
    {
     "name": "stderr",
     "output_type": "stream",
     "text": [
      "EGL device choice: -1 of 4.\n"
     ]
    },
    {
     "name": "stdout",
     "output_type": "stream",
     "text": [
      "[INFO] [1652977160.342478]: Node \"/QuadrupedEnv/engine\" initialized.\n",
      "[INFO] [1652977160.476087]: Node \"/QuadrupedEnv/environment\" initialized.\n",
      "[INFO] [1652977160.547189]: Node \"/QuadrupedEnv/cartesian_control\" initialized.\n",
      "TROT\n",
      "[INFO] [1652977160.583163]: Node \"/QuadrupedEnv/cpg\" initialized.\n",
      "END CREATING ENV\n",
      "[INFO] [1652977160.658448]: Adding object \"quadruped\" of type \"Quadruped\" to the simulator.\n",
      "/home/r2ci/eagerx-dev/eagerx_tutorials/eagerx_tutorials/quadruped/go1/go1_description/urdf/go1.urdf\n",
      "[INFO] [1652977161.434254]: Waiting for nodes \"['quadruped/force_torque_sensor']\" to be initialized.\n",
      "[INFO] [1652977161.452010]: Node \"/QuadrupedEnv/quadruped/force_torque_sensor\" initialized.\n",
      "[INFO] [1652977161.464705]: Node \"/QuadrupedEnv/quadruped/base_orientation_sensor\" initialized.\n",
      "[INFO] [1652977161.476809]: Node \"/QuadrupedEnv/quadruped/joint_control\" initialized.\n"
     ]
    }
   ],
   "source": [
    "# Initialize Environment\n",
    "# Unique ID to be able to launch multiple instances\n",
    "print(\"TEST\")\n",
    "env = QuadrupedEnv(\n",
    "    name=f\"QuadrupedEnv\",\n",
    "    rate=env_rate,\n",
    "    graph=graph,\n",
    "    engine=engine,\n",
    "    desired_velocity=desired_velocity,\n",
    "    episode_timeout=episode_timeout,\n",
    "    debug=False,\n",
    ")\n",
    "print(\"END CREATING ENV\")\n",
    "env = Flatten(env)"
   ]
  },
  {
   "cell_type": "code",
   "execution_count": 10,
   "id": "02a43fe7-4c41-4215-8f64-f419d63ca7f9",
   "metadata": {},
   "outputs": [
    {
     "name": "stdout",
     "output_type": "stream",
     "text": [
      "Using cuda device\n",
      "Wrapping the env with a `Monitor` wrapper\n",
      "Wrapping the env in a DummyVecEnv.\n"
     ]
    }
   ],
   "source": [
    "from sb3_contrib import TQC\n",
    "# Initialize SB3\n",
    "hyperparams = dict(\n",
    "    learning_rate=1e-3,\n",
    "    tau=0.02,\n",
    "    gamma=0.98,\n",
    "    buffer_size=300000,\n",
    "    learning_starts=100,\n",
    "    use_sde=True,\n",
    "    use_sde_at_warmup=True,\n",
    "    train_freq=8,\n",
    "    gradient_steps=10,\n",
    "    verbose=1,\n",
    "    top_quantiles_to_drop_per_net=0,\n",
    "    policy_kwargs=dict(n_critics=1, net_arch=dict(pi=[64, 64], qf=[64, 64])),\n",
    ")\n",
    "\n",
    "model = TQC(\"MlpPolicy\", env, **hyperparams)"
   ]
  },
  {
   "cell_type": "code",
   "execution_count": 13,
   "id": "eb5fbe0f-b2c0-43c8-a09a-be70be196552",
   "metadata": {},
   "outputs": [
    {
     "name": "stdout",
     "output_type": "stream",
     "text": [
      "START TRAINING\n",
      "[step] KEYBOARD INTERRUPT\n"
     ]
    },
    {
     "ename": "KeyboardInterrupt",
     "evalue": "",
     "output_type": "error",
     "traceback": [
      "\u001B[0;31m---------------------------------------------------------------------------\u001B[0m",
      "\u001B[0;31mKeyboardInterrupt\u001B[0m                         Traceback (most recent call last)",
      "\u001B[0;32m/tmp/ipykernel_5752/1389328162.py\u001B[0m in \u001B[0;36m<cell line: 2>\u001B[0;34m()\u001B[0m\n\u001B[1;32m      1\u001B[0m \u001B[0mprint\u001B[0m\u001B[0;34m(\u001B[0m\u001B[0;34m\"START TRAINING\"\u001B[0m\u001B[0;34m)\u001B[0m\u001B[0;34m\u001B[0m\u001B[0;34m\u001B[0m\u001B[0m\n\u001B[0;32m----> 2\u001B[0;31m \u001B[0mmodel\u001B[0m\u001B[0;34m.\u001B[0m\u001B[0mlearn\u001B[0m\u001B[0;34m(\u001B[0m\u001B[0;36m1_000_000\u001B[0m\u001B[0;34m)\u001B[0m\u001B[0;34m\u001B[0m\u001B[0;34m\u001B[0m\u001B[0m\n\u001B[0m",
      "\u001B[0;32m~/.cache/pypoetry/virtualenvs/eagerx-tutorials-t4w5hBSU-py3.8/lib/python3.8/site-packages/sb3_contrib/tqc/tqc.py\u001B[0m in \u001B[0;36mlearn\u001B[0;34m(self, total_timesteps, callback, log_interval, eval_env, eval_freq, n_eval_episodes, tb_log_name, eval_log_path, reset_num_timesteps)\u001B[0m\n\u001B[1;32m    288\u001B[0m     ) -> OffPolicyAlgorithm:\n\u001B[1;32m    289\u001B[0m \u001B[0;34m\u001B[0m\u001B[0m\n\u001B[0;32m--> 290\u001B[0;31m         return super(TQC, self).learn(\n\u001B[0m\u001B[1;32m    291\u001B[0m             \u001B[0mtotal_timesteps\u001B[0m\u001B[0;34m=\u001B[0m\u001B[0mtotal_timesteps\u001B[0m\u001B[0;34m,\u001B[0m\u001B[0;34m\u001B[0m\u001B[0;34m\u001B[0m\u001B[0m\n\u001B[1;32m    292\u001B[0m             \u001B[0mcallback\u001B[0m\u001B[0;34m=\u001B[0m\u001B[0mcallback\u001B[0m\u001B[0;34m,\u001B[0m\u001B[0;34m\u001B[0m\u001B[0;34m\u001B[0m\u001B[0m\n",
      "\u001B[0;32m~/.cache/pypoetry/virtualenvs/eagerx-tutorials-t4w5hBSU-py3.8/lib/python3.8/site-packages/stable_baselines3/common/off_policy_algorithm.py\u001B[0m in \u001B[0;36mlearn\u001B[0;34m(self, total_timesteps, callback, log_interval, eval_env, eval_freq, n_eval_episodes, tb_log_name, eval_log_path, reset_num_timesteps)\u001B[0m\n\u001B[1;32m    345\u001B[0m \u001B[0;34m\u001B[0m\u001B[0m\n\u001B[1;32m    346\u001B[0m         \u001B[0;32mwhile\u001B[0m \u001B[0mself\u001B[0m\u001B[0;34m.\u001B[0m\u001B[0mnum_timesteps\u001B[0m \u001B[0;34m<\u001B[0m \u001B[0mtotal_timesteps\u001B[0m\u001B[0;34m:\u001B[0m\u001B[0;34m\u001B[0m\u001B[0;34m\u001B[0m\u001B[0m\n\u001B[0;32m--> 347\u001B[0;31m             rollout = self.collect_rollouts(\n\u001B[0m\u001B[1;32m    348\u001B[0m                 \u001B[0mself\u001B[0m\u001B[0;34m.\u001B[0m\u001B[0menv\u001B[0m\u001B[0;34m,\u001B[0m\u001B[0;34m\u001B[0m\u001B[0;34m\u001B[0m\u001B[0m\n\u001B[1;32m    349\u001B[0m                 \u001B[0mtrain_freq\u001B[0m\u001B[0;34m=\u001B[0m\u001B[0mself\u001B[0m\u001B[0;34m.\u001B[0m\u001B[0mtrain_freq\u001B[0m\u001B[0;34m,\u001B[0m\u001B[0;34m\u001B[0m\u001B[0;34m\u001B[0m\u001B[0m\n",
      "\u001B[0;32m~/.cache/pypoetry/virtualenvs/eagerx-tutorials-t4w5hBSU-py3.8/lib/python3.8/site-packages/stable_baselines3/common/off_policy_algorithm.py\u001B[0m in \u001B[0;36mcollect_rollouts\u001B[0;34m(self, env, callback, train_freq, replay_buffer, action_noise, learning_starts, log_interval)\u001B[0m\n\u001B[1;32m    578\u001B[0m \u001B[0;34m\u001B[0m\u001B[0m\n\u001B[1;32m    579\u001B[0m             \u001B[0;31m# Rescale and perform action\u001B[0m\u001B[0;34m\u001B[0m\u001B[0;34m\u001B[0m\u001B[0;34m\u001B[0m\u001B[0m\n\u001B[0;32m--> 580\u001B[0;31m             \u001B[0mnew_obs\u001B[0m\u001B[0;34m,\u001B[0m \u001B[0mrewards\u001B[0m\u001B[0;34m,\u001B[0m \u001B[0mdones\u001B[0m\u001B[0;34m,\u001B[0m \u001B[0minfos\u001B[0m \u001B[0;34m=\u001B[0m \u001B[0menv\u001B[0m\u001B[0;34m.\u001B[0m\u001B[0mstep\u001B[0m\u001B[0;34m(\u001B[0m\u001B[0mactions\u001B[0m\u001B[0;34m)\u001B[0m\u001B[0;34m\u001B[0m\u001B[0;34m\u001B[0m\u001B[0m\n\u001B[0m\u001B[1;32m    581\u001B[0m \u001B[0;34m\u001B[0m\u001B[0m\n\u001B[1;32m    582\u001B[0m             \u001B[0mself\u001B[0m\u001B[0;34m.\u001B[0m\u001B[0mnum_timesteps\u001B[0m \u001B[0;34m+=\u001B[0m \u001B[0menv\u001B[0m\u001B[0;34m.\u001B[0m\u001B[0mnum_envs\u001B[0m\u001B[0;34m\u001B[0m\u001B[0;34m\u001B[0m\u001B[0m\n",
      "\u001B[0;32m~/.cache/pypoetry/virtualenvs/eagerx-tutorials-t4w5hBSU-py3.8/lib/python3.8/site-packages/stable_baselines3/common/vec_env/base_vec_env.py\u001B[0m in \u001B[0;36mstep\u001B[0;34m(self, actions)\u001B[0m\n\u001B[1;32m    160\u001B[0m         \"\"\"\n\u001B[1;32m    161\u001B[0m         \u001B[0mself\u001B[0m\u001B[0;34m.\u001B[0m\u001B[0mstep_async\u001B[0m\u001B[0;34m(\u001B[0m\u001B[0mactions\u001B[0m\u001B[0;34m)\u001B[0m\u001B[0;34m\u001B[0m\u001B[0;34m\u001B[0m\u001B[0m\n\u001B[0;32m--> 162\u001B[0;31m         \u001B[0;32mreturn\u001B[0m \u001B[0mself\u001B[0m\u001B[0;34m.\u001B[0m\u001B[0mstep_wait\u001B[0m\u001B[0;34m(\u001B[0m\u001B[0;34m)\u001B[0m\u001B[0;34m\u001B[0m\u001B[0;34m\u001B[0m\u001B[0m\n\u001B[0m\u001B[1;32m    163\u001B[0m \u001B[0;34m\u001B[0m\u001B[0m\n\u001B[1;32m    164\u001B[0m     \u001B[0;32mdef\u001B[0m \u001B[0mget_images\u001B[0m\u001B[0;34m(\u001B[0m\u001B[0mself\u001B[0m\u001B[0;34m)\u001B[0m \u001B[0;34m->\u001B[0m \u001B[0mSequence\u001B[0m\u001B[0;34m[\u001B[0m\u001B[0mnp\u001B[0m\u001B[0;34m.\u001B[0m\u001B[0mndarray\u001B[0m\u001B[0;34m]\u001B[0m\u001B[0;34m:\u001B[0m\u001B[0;34m\u001B[0m\u001B[0;34m\u001B[0m\u001B[0m\n",
      "\u001B[0;32m~/.cache/pypoetry/virtualenvs/eagerx-tutorials-t4w5hBSU-py3.8/lib/python3.8/site-packages/stable_baselines3/common/vec_env/dummy_vec_env.py\u001B[0m in \u001B[0;36mstep_wait\u001B[0;34m(self)\u001B[0m\n\u001B[1;32m     41\u001B[0m     \u001B[0;32mdef\u001B[0m \u001B[0mstep_wait\u001B[0m\u001B[0;34m(\u001B[0m\u001B[0mself\u001B[0m\u001B[0;34m)\u001B[0m \u001B[0;34m->\u001B[0m \u001B[0mVecEnvStepReturn\u001B[0m\u001B[0;34m:\u001B[0m\u001B[0;34m\u001B[0m\u001B[0;34m\u001B[0m\u001B[0m\n\u001B[1;32m     42\u001B[0m         \u001B[0;32mfor\u001B[0m \u001B[0menv_idx\u001B[0m \u001B[0;32min\u001B[0m \u001B[0mrange\u001B[0m\u001B[0;34m(\u001B[0m\u001B[0mself\u001B[0m\u001B[0;34m.\u001B[0m\u001B[0mnum_envs\u001B[0m\u001B[0;34m)\u001B[0m\u001B[0;34m:\u001B[0m\u001B[0;34m\u001B[0m\u001B[0;34m\u001B[0m\u001B[0m\n\u001B[0;32m---> 43\u001B[0;31m             obs, self.buf_rews[env_idx], self.buf_dones[env_idx], self.buf_infos[env_idx] = self.envs[env_idx].step(\n\u001B[0m\u001B[1;32m     44\u001B[0m                 \u001B[0mself\u001B[0m\u001B[0;34m.\u001B[0m\u001B[0mactions\u001B[0m\u001B[0;34m[\u001B[0m\u001B[0menv_idx\u001B[0m\u001B[0;34m]\u001B[0m\u001B[0;34m\u001B[0m\u001B[0;34m\u001B[0m\u001B[0m\n\u001B[1;32m     45\u001B[0m             )\n",
      "\u001B[0;32m~/.cache/pypoetry/virtualenvs/eagerx-tutorials-t4w5hBSU-py3.8/lib/python3.8/site-packages/stable_baselines3/common/monitor.py\u001B[0m in \u001B[0;36mstep\u001B[0;34m(self, action)\u001B[0m\n\u001B[1;32m     88\u001B[0m         \u001B[0;32mif\u001B[0m \u001B[0mself\u001B[0m\u001B[0;34m.\u001B[0m\u001B[0mneeds_reset\u001B[0m\u001B[0;34m:\u001B[0m\u001B[0;34m\u001B[0m\u001B[0;34m\u001B[0m\u001B[0m\n\u001B[1;32m     89\u001B[0m             \u001B[0;32mraise\u001B[0m \u001B[0mRuntimeError\u001B[0m\u001B[0;34m(\u001B[0m\u001B[0;34m\"Tried to step environment that needs reset\"\u001B[0m\u001B[0;34m)\u001B[0m\u001B[0;34m\u001B[0m\u001B[0;34m\u001B[0m\u001B[0m\n\u001B[0;32m---> 90\u001B[0;31m         \u001B[0mobservation\u001B[0m\u001B[0;34m,\u001B[0m \u001B[0mreward\u001B[0m\u001B[0;34m,\u001B[0m \u001B[0mdone\u001B[0m\u001B[0;34m,\u001B[0m \u001B[0minfo\u001B[0m \u001B[0;34m=\u001B[0m \u001B[0mself\u001B[0m\u001B[0;34m.\u001B[0m\u001B[0menv\u001B[0m\u001B[0;34m.\u001B[0m\u001B[0mstep\u001B[0m\u001B[0;34m(\u001B[0m\u001B[0maction\u001B[0m\u001B[0;34m)\u001B[0m\u001B[0;34m\u001B[0m\u001B[0;34m\u001B[0m\u001B[0m\n\u001B[0m\u001B[1;32m     91\u001B[0m         \u001B[0mself\u001B[0m\u001B[0;34m.\u001B[0m\u001B[0mrewards\u001B[0m\u001B[0;34m.\u001B[0m\u001B[0mappend\u001B[0m\u001B[0;34m(\u001B[0m\u001B[0mreward\u001B[0m\u001B[0;34m)\u001B[0m\u001B[0;34m\u001B[0m\u001B[0;34m\u001B[0m\u001B[0m\n\u001B[1;32m     92\u001B[0m         \u001B[0;32mif\u001B[0m \u001B[0mdone\u001B[0m\u001B[0;34m:\u001B[0m\u001B[0;34m\u001B[0m\u001B[0;34m\u001B[0m\u001B[0m\n",
      "\u001B[0;32m~/.cache/pypoetry/virtualenvs/eagerx-tutorials-t4w5hBSU-py3.8/lib/python3.8/site-packages/gym/core.py\u001B[0m in \u001B[0;36mstep\u001B[0;34m(self, action)\u001B[0m\n\u001B[1;32m    287\u001B[0m \u001B[0;34m\u001B[0m\u001B[0m\n\u001B[1;32m    288\u001B[0m     \u001B[0;32mdef\u001B[0m \u001B[0mstep\u001B[0m\u001B[0;34m(\u001B[0m\u001B[0mself\u001B[0m\u001B[0;34m,\u001B[0m \u001B[0maction\u001B[0m\u001B[0;34m)\u001B[0m\u001B[0;34m:\u001B[0m\u001B[0;34m\u001B[0m\u001B[0;34m\u001B[0m\u001B[0m\n\u001B[0;32m--> 289\u001B[0;31m         \u001B[0;32mreturn\u001B[0m \u001B[0mself\u001B[0m\u001B[0;34m.\u001B[0m\u001B[0menv\u001B[0m\u001B[0;34m.\u001B[0m\u001B[0mstep\u001B[0m\u001B[0;34m(\u001B[0m\u001B[0maction\u001B[0m\u001B[0;34m)\u001B[0m\u001B[0;34m\u001B[0m\u001B[0;34m\u001B[0m\u001B[0m\n\u001B[0m\u001B[1;32m    290\u001B[0m \u001B[0;34m\u001B[0m\u001B[0m\n\u001B[1;32m    291\u001B[0m     \u001B[0;32mdef\u001B[0m \u001B[0mreset\u001B[0m\u001B[0;34m(\u001B[0m\u001B[0mself\u001B[0m\u001B[0;34m,\u001B[0m \u001B[0;34m**\u001B[0m\u001B[0mkwargs\u001B[0m\u001B[0;34m)\u001B[0m\u001B[0;34m:\u001B[0m\u001B[0;34m\u001B[0m\u001B[0;34m\u001B[0m\u001B[0m\n",
      "\u001B[0;32m~/.cache/pypoetry/virtualenvs/eagerx-tutorials-t4w5hBSU-py3.8/lib/python3.8/site-packages/gym/core.py\u001B[0m in \u001B[0;36mstep\u001B[0;34m(self, action)\u001B[0m\n\u001B[1;32m    321\u001B[0m \u001B[0;34m\u001B[0m\u001B[0m\n\u001B[1;32m    322\u001B[0m     \u001B[0;32mdef\u001B[0m \u001B[0mstep\u001B[0m\u001B[0;34m(\u001B[0m\u001B[0mself\u001B[0m\u001B[0;34m,\u001B[0m \u001B[0maction\u001B[0m\u001B[0;34m)\u001B[0m\u001B[0;34m:\u001B[0m\u001B[0;34m\u001B[0m\u001B[0;34m\u001B[0m\u001B[0m\n\u001B[0;32m--> 323\u001B[0;31m         \u001B[0mobservation\u001B[0m\u001B[0;34m,\u001B[0m \u001B[0mreward\u001B[0m\u001B[0;34m,\u001B[0m \u001B[0mdone\u001B[0m\u001B[0;34m,\u001B[0m \u001B[0minfo\u001B[0m \u001B[0;34m=\u001B[0m \u001B[0mself\u001B[0m\u001B[0;34m.\u001B[0m\u001B[0menv\u001B[0m\u001B[0;34m.\u001B[0m\u001B[0mstep\u001B[0m\u001B[0;34m(\u001B[0m\u001B[0maction\u001B[0m\u001B[0;34m)\u001B[0m\u001B[0;34m\u001B[0m\u001B[0;34m\u001B[0m\u001B[0m\n\u001B[0m\u001B[1;32m    324\u001B[0m         \u001B[0;32mreturn\u001B[0m \u001B[0mself\u001B[0m\u001B[0;34m.\u001B[0m\u001B[0mobservation\u001B[0m\u001B[0;34m(\u001B[0m\u001B[0mobservation\u001B[0m\u001B[0;34m)\u001B[0m\u001B[0;34m,\u001B[0m \u001B[0mreward\u001B[0m\u001B[0;34m,\u001B[0m \u001B[0mdone\u001B[0m\u001B[0;34m,\u001B[0m \u001B[0minfo\u001B[0m\u001B[0;34m\u001B[0m\u001B[0;34m\u001B[0m\u001B[0m\n\u001B[1;32m    325\u001B[0m \u001B[0;34m\u001B[0m\u001B[0m\n",
      "\u001B[0;32m~/.cache/pypoetry/virtualenvs/eagerx-tutorials-t4w5hBSU-py3.8/lib/python3.8/site-packages/gym/core.py\u001B[0m in \u001B[0;36mstep\u001B[0;34m(self, action)\u001B[0m\n\u001B[1;32m    347\u001B[0m \u001B[0;34m\u001B[0m\u001B[0m\n\u001B[1;32m    348\u001B[0m     \u001B[0;32mdef\u001B[0m \u001B[0mstep\u001B[0m\u001B[0;34m(\u001B[0m\u001B[0mself\u001B[0m\u001B[0;34m,\u001B[0m \u001B[0maction\u001B[0m\u001B[0;34m)\u001B[0m\u001B[0;34m:\u001B[0m\u001B[0;34m\u001B[0m\u001B[0;34m\u001B[0m\u001B[0m\n\u001B[0;32m--> 349\u001B[0;31m         \u001B[0;32mreturn\u001B[0m \u001B[0mself\u001B[0m\u001B[0;34m.\u001B[0m\u001B[0menv\u001B[0m\u001B[0;34m.\u001B[0m\u001B[0mstep\u001B[0m\u001B[0;34m(\u001B[0m\u001B[0mself\u001B[0m\u001B[0;34m.\u001B[0m\u001B[0maction\u001B[0m\u001B[0;34m(\u001B[0m\u001B[0maction\u001B[0m\u001B[0;34m)\u001B[0m\u001B[0;34m)\u001B[0m\u001B[0;34m\u001B[0m\u001B[0;34m\u001B[0m\u001B[0m\n\u001B[0m\u001B[1;32m    350\u001B[0m \u001B[0;34m\u001B[0m\u001B[0m\n\u001B[1;32m    351\u001B[0m     \u001B[0;34m@\u001B[0m\u001B[0mabstractmethod\u001B[0m\u001B[0;34m\u001B[0m\u001B[0;34m\u001B[0m\u001B[0m\n",
      "\u001B[0;32m/tmp/ipykernel_5752/1308984312.py\u001B[0m in \u001B[0;36mstep\u001B[0;34m(self, action)\u001B[0m\n\u001B[1;32m     32\u001B[0m \u001B[0;34m\u001B[0m\u001B[0m\n\u001B[1;32m     33\u001B[0m     \u001B[0;32mdef\u001B[0m \u001B[0mstep\u001B[0m\u001B[0;34m(\u001B[0m\u001B[0mself\u001B[0m\u001B[0;34m,\u001B[0m \u001B[0maction\u001B[0m\u001B[0;34m:\u001B[0m \u001B[0mDict\u001B[0m\u001B[0;34m)\u001B[0m \u001B[0;34m->\u001B[0m \u001B[0mTuple\u001B[0m\u001B[0;34m[\u001B[0m\u001B[0mDict\u001B[0m\u001B[0;34m,\u001B[0m \u001B[0mfloat\u001B[0m\u001B[0;34m,\u001B[0m \u001B[0mbool\u001B[0m\u001B[0;34m,\u001B[0m \u001B[0mDict\u001B[0m\u001B[0;34m]\u001B[0m\u001B[0;34m:\u001B[0m\u001B[0;34m\u001B[0m\u001B[0;34m\u001B[0m\u001B[0m\n\u001B[0;32m---> 34\u001B[0;31m         \u001B[0mobs\u001B[0m \u001B[0;34m=\u001B[0m \u001B[0mself\u001B[0m\u001B[0;34m.\u001B[0m\u001B[0m_step\u001B[0m\u001B[0;34m(\u001B[0m\u001B[0maction\u001B[0m\u001B[0;34m)\u001B[0m\u001B[0;34m\u001B[0m\u001B[0;34m\u001B[0m\u001B[0m\n\u001B[0m\u001B[1;32m     35\u001B[0m         \u001B[0mself\u001B[0m\u001B[0;34m.\u001B[0m\u001B[0msteps\u001B[0m \u001B[0;34m+=\u001B[0m \u001B[0;36m1\u001B[0m\u001B[0;34m\u001B[0m\u001B[0;34m\u001B[0m\u001B[0m\n\u001B[1;32m     36\u001B[0m \u001B[0;34m\u001B[0m\u001B[0m\n",
      "\u001B[0;32m~/.cache/pypoetry/virtualenvs/eagerx-tutorials-t4w5hBSU-py3.8/lib/python3.8/site-packages/eagerx/core/env.py\u001B[0m in \u001B[0;36m_step\u001B[0;34m(self, action)\u001B[0m\n\u001B[1;32m    521\u001B[0m \u001B[0;34m\u001B[0m\u001B[0m\n\u001B[1;32m    522\u001B[0m         \u001B[0;31m# Call step\u001B[0m\u001B[0;34m\u001B[0m\u001B[0;34m\u001B[0m\u001B[0;34m\u001B[0m\u001B[0m\n\u001B[0;32m--> 523\u001B[0;31m         \u001B[0mself\u001B[0m\u001B[0;34m.\u001B[0m\u001B[0msupervisor_node\u001B[0m\u001B[0;34m.\u001B[0m\u001B[0mstep\u001B[0m\u001B[0;34m(\u001B[0m\u001B[0;34m)\u001B[0m\u001B[0;34m\u001B[0m\u001B[0;34m\u001B[0m\u001B[0m\n\u001B[0m\u001B[1;32m    524\u001B[0m         \u001B[0;32mreturn\u001B[0m \u001B[0mself\u001B[0m\u001B[0;34m.\u001B[0m\u001B[0m_get_observation\u001B[0m\u001B[0;34m(\u001B[0m\u001B[0;34m)\u001B[0m\u001B[0;34m\u001B[0m\u001B[0;34m\u001B[0m\u001B[0m\n\u001B[1;32m    525\u001B[0m \u001B[0;34m\u001B[0m\u001B[0m\n",
      "\u001B[0;32m~/.cache/pypoetry/virtualenvs/eagerx-tutorials-t4w5hBSU-py3.8/lib/python3.8/site-packages/eagerx/core/supervisor.py\u001B[0m in \u001B[0;36mstep\u001B[0;34m(self)\u001B[0m\n\u001B[1;32m    170\u001B[0m         \u001B[0mself\u001B[0m\u001B[0;34m.\u001B[0m\u001B[0m_step_counter\u001B[0m \u001B[0;34m+=\u001B[0m \u001B[0;36m1\u001B[0m\u001B[0;34m\u001B[0m\u001B[0;34m\u001B[0m\u001B[0m\n\u001B[1;32m    171\u001B[0m         \u001B[0;32mtry\u001B[0m\u001B[0;34m:\u001B[0m\u001B[0;34m\u001B[0m\u001B[0;34m\u001B[0m\u001B[0m\n\u001B[0;32m--> 172\u001B[0;31m             \u001B[0mflag\u001B[0m \u001B[0;34m=\u001B[0m \u001B[0mself\u001B[0m\u001B[0;34m.\u001B[0m\u001B[0menv_node\u001B[0m\u001B[0;34m.\u001B[0m\u001B[0mobs_event\u001B[0m\u001B[0;34m.\u001B[0m\u001B[0mwait\u001B[0m\u001B[0;34m(\u001B[0m\u001B[0;34m)\u001B[0m\u001B[0;34m\u001B[0m\u001B[0;34m\u001B[0m\u001B[0m\n\u001B[0m\u001B[1;32m    173\u001B[0m             \u001B[0;32mif\u001B[0m \u001B[0;32mnot\u001B[0m \u001B[0mflag\u001B[0m\u001B[0;34m:\u001B[0m\u001B[0;34m\u001B[0m\u001B[0;34m\u001B[0m\u001B[0m\n\u001B[1;32m    174\u001B[0m                 \u001B[0;32mraise\u001B[0m \u001B[0mKeyboardInterrupt\u001B[0m\u001B[0;34m\u001B[0m\u001B[0;34m\u001B[0m\u001B[0m\n",
      "\u001B[0;32m/usr/lib/python3.8/threading.py\u001B[0m in \u001B[0;36mwait\u001B[0;34m(self, timeout)\u001B[0m\n\u001B[1;32m    556\u001B[0m             \u001B[0msignaled\u001B[0m \u001B[0;34m=\u001B[0m \u001B[0mself\u001B[0m\u001B[0;34m.\u001B[0m\u001B[0m_flag\u001B[0m\u001B[0;34m\u001B[0m\u001B[0;34m\u001B[0m\u001B[0m\n\u001B[1;32m    557\u001B[0m             \u001B[0;32mif\u001B[0m \u001B[0;32mnot\u001B[0m \u001B[0msignaled\u001B[0m\u001B[0;34m:\u001B[0m\u001B[0;34m\u001B[0m\u001B[0;34m\u001B[0m\u001B[0m\n\u001B[0;32m--> 558\u001B[0;31m                 \u001B[0msignaled\u001B[0m \u001B[0;34m=\u001B[0m \u001B[0mself\u001B[0m\u001B[0;34m.\u001B[0m\u001B[0m_cond\u001B[0m\u001B[0;34m.\u001B[0m\u001B[0mwait\u001B[0m\u001B[0;34m(\u001B[0m\u001B[0mtimeout\u001B[0m\u001B[0;34m)\u001B[0m\u001B[0;34m\u001B[0m\u001B[0;34m\u001B[0m\u001B[0m\n\u001B[0m\u001B[1;32m    559\u001B[0m             \u001B[0;32mreturn\u001B[0m \u001B[0msignaled\u001B[0m\u001B[0;34m\u001B[0m\u001B[0;34m\u001B[0m\u001B[0m\n\u001B[1;32m    560\u001B[0m \u001B[0;34m\u001B[0m\u001B[0m\n",
      "\u001B[0;32m/usr/lib/python3.8/threading.py\u001B[0m in \u001B[0;36mwait\u001B[0;34m(self, timeout)\u001B[0m\n\u001B[1;32m    300\u001B[0m         \u001B[0;32mtry\u001B[0m\u001B[0;34m:\u001B[0m    \u001B[0;31m# restore state no matter what (e.g., KeyboardInterrupt)\u001B[0m\u001B[0;34m\u001B[0m\u001B[0;34m\u001B[0m\u001B[0m\n\u001B[1;32m    301\u001B[0m             \u001B[0;32mif\u001B[0m \u001B[0mtimeout\u001B[0m \u001B[0;32mis\u001B[0m \u001B[0;32mNone\u001B[0m\u001B[0;34m:\u001B[0m\u001B[0;34m\u001B[0m\u001B[0;34m\u001B[0m\u001B[0m\n\u001B[0;32m--> 302\u001B[0;31m                 \u001B[0mwaiter\u001B[0m\u001B[0;34m.\u001B[0m\u001B[0macquire\u001B[0m\u001B[0;34m(\u001B[0m\u001B[0;34m)\u001B[0m\u001B[0;34m\u001B[0m\u001B[0;34m\u001B[0m\u001B[0m\n\u001B[0m\u001B[1;32m    303\u001B[0m                 \u001B[0mgotit\u001B[0m \u001B[0;34m=\u001B[0m \u001B[0;32mTrue\u001B[0m\u001B[0;34m\u001B[0m\u001B[0;34m\u001B[0m\u001B[0m\n\u001B[1;32m    304\u001B[0m             \u001B[0;32melse\u001B[0m\u001B[0;34m:\u001B[0m\u001B[0;34m\u001B[0m\u001B[0;34m\u001B[0m\u001B[0m\n",
      "\u001B[0;31mKeyboardInterrupt\u001B[0m: "
     ]
    }
   ],
   "source": [
    "print(\"START TRAINING\")\n",
    "model.learn(1_000_000)"
   ]
  },
  {
   "cell_type": "code",
   "execution_count": null,
   "id": "24d8428c-0919-42a4-8f80-060376fe3c68",
   "metadata": {},
   "outputs": [],
   "source": []
  }
 ],
 "metadata": {
  "kernelspec": {
   "display_name": "Python 3 (ipykernel)",
   "language": "python",
   "name": "python3"
  },
  "language_info": {
   "codemirror_mode": {
    "name": "ipython",
    "version": 3
   },
   "file_extension": ".py",
   "mimetype": "text/x-python",
   "name": "python",
   "nbconvert_exporter": "python",
   "pygments_lexer": "ipython3",
   "version": "3.8.10"
  }
 },
 "nbformat": 4,
 "nbformat_minor": 5
}